{
 "cells": [
  {
   "cell_type": "code",
   "execution_count": 1,
   "id": "4f91e888",
   "metadata": {},
   "outputs": [],
   "source": [
    "import pandas as pd\n",
    "import numpy as np\n",
    "import seaborn as sns\n",
    "import imageio\n",
    "import matplotlib.pyplot as plt\n",
    "from mplsoccer import Pitch"
   ]
  },
  {
   "cell_type": "markdown",
   "id": "8d236c64",
   "metadata": {},
   "source": [
    "Read data either in parquet or CSV format"
   ]
  },
  {
   "cell_type": "code",
   "execution_count": 2,
   "id": "7768bf08",
   "metadata": {},
   "outputs": [],
   "source": [
    "position_df = pd.read_parquet('sample_tracking_data.parquet')\n",
    "# position_df = pd.read_csv('sample_tracking_data.csv', index_col=0)"
   ]
  },
  {
   "cell_type": "code",
   "execution_count": 3,
   "id": "91c5c85f-ff09-4586-b4f1-3af01a2bfca8",
   "metadata": {},
   "outputs": [
    {
     "data": {
      "text/plain": [
       "(1365026, 17)"
      ]
     },
     "execution_count": 3,
     "metadata": {},
     "output_type": "execute_result"
    }
   ],
   "source": [
    "position_df.shape"
   ]
  },
  {
   "cell_type": "code",
   "execution_count": 4,
   "id": "bb265db1",
   "metadata": {},
   "outputs": [
    {
     "data": {
      "text/html": [
       "<div>\n",
       "<style scoped>\n",
       "    .dataframe tbody tr th:only-of-type {\n",
       "        vertical-align: middle;\n",
       "    }\n",
       "\n",
       "    .dataframe tbody tr th {\n",
       "        vertical-align: top;\n",
       "    }\n",
       "\n",
       "    .dataframe thead th {\n",
       "        text-align: right;\n",
       "    }\n",
       "</style>\n",
       "<table border=\"1\" class=\"dataframe\">\n",
       "  <thead>\n",
       "    <tr style=\"text-align: right;\">\n",
       "      <th></th>\n",
       "      <th>N</th>\n",
       "      <th>T</th>\n",
       "      <th>X</th>\n",
       "      <th>Y</th>\n",
       "      <th>Z</th>\n",
       "      <th>D</th>\n",
       "      <th>A</th>\n",
       "      <th>S</th>\n",
       "      <th>M</th>\n",
       "      <th>GameSection</th>\n",
       "      <th>TeamId</th>\n",
       "      <th>PersonId</th>\n",
       "      <th>BallPossession</th>\n",
       "      <th>BallStatus</th>\n",
       "      <th>IS_LTR</th>\n",
       "      <th>X_LTR</th>\n",
       "      <th>Y_LTR</th>\n",
       "    </tr>\n",
       "  </thead>\n",
       "  <tbody>\n",
       "    <tr>\n",
       "      <th>0</th>\n",
       "      <td>34855</td>\n",
       "      <td>2014-01-15 10:07:40+01:00</td>\n",
       "      <td>5.49</td>\n",
       "      <td>-5.57</td>\n",
       "      <td>0.0</td>\n",
       "      <td>12.86</td>\n",
       "      <td>-1.90</td>\n",
       "      <td>12.02</td>\n",
       "      <td>17</td>\n",
       "      <td>_Half</td>\n",
       "      <td>DFL-CLU-ZZZZ01</td>\n",
       "      <td>DFL-OBJ-ZZZZ06</td>\n",
       "      <td>2</td>\n",
       "      <td>1</td>\n",
       "      <td>True</td>\n",
       "      <td>5.49</td>\n",
       "      <td>-5.57</td>\n",
       "    </tr>\n",
       "    <tr>\n",
       "      <th>1</th>\n",
       "      <td>34855</td>\n",
       "      <td>2014-01-15 10:07:40+01:00</td>\n",
       "      <td>5.33</td>\n",
       "      <td>-24.32</td>\n",
       "      <td>0.0</td>\n",
       "      <td>3.31</td>\n",
       "      <td>-0.61</td>\n",
       "      <td>2.81</td>\n",
       "      <td>17</td>\n",
       "      <td>_Half</td>\n",
       "      <td>DFL-CLU-ZZZZ00</td>\n",
       "      <td>DFL-OBJ-ZZZZ09</td>\n",
       "      <td>2</td>\n",
       "      <td>1</td>\n",
       "      <td>False</td>\n",
       "      <td>-5.33</td>\n",
       "      <td>24.32</td>\n",
       "    </tr>\n",
       "    <tr>\n",
       "      <th>2</th>\n",
       "      <td>34855</td>\n",
       "      <td>2014-01-15 10:07:40+01:00</td>\n",
       "      <td>-4.61</td>\n",
       "      <td>-7.26</td>\n",
       "      <td>0.0</td>\n",
       "      <td>4.97</td>\n",
       "      <td>-0.44</td>\n",
       "      <td>5.00</td>\n",
       "      <td>17</td>\n",
       "      <td>_Half</td>\n",
       "      <td>DFL-CLU-ZZZZ00</td>\n",
       "      <td>DFL-OBJ-ZZZZ08</td>\n",
       "      <td>2</td>\n",
       "      <td>1</td>\n",
       "      <td>False</td>\n",
       "      <td>4.61</td>\n",
       "      <td>7.26</td>\n",
       "    </tr>\n",
       "  </tbody>\n",
       "</table>\n",
       "</div>"
      ],
      "text/plain": [
       "       N                         T     X      Y    Z      D     A      S   M  \\\n",
       "0  34855 2014-01-15 10:07:40+01:00  5.49  -5.57  0.0  12.86 -1.90  12.02  17   \n",
       "1  34855 2014-01-15 10:07:40+01:00  5.33 -24.32  0.0   3.31 -0.61   2.81  17   \n",
       "2  34855 2014-01-15 10:07:40+01:00 -4.61  -7.26  0.0   4.97 -0.44   5.00  17   \n",
       "\n",
       "  GameSection          TeamId        PersonId  BallPossession  BallStatus  \\\n",
       "0       _Half  DFL-CLU-ZZZZ01  DFL-OBJ-ZZZZ06               2           1   \n",
       "1       _Half  DFL-CLU-ZZZZ00  DFL-OBJ-ZZZZ09               2           1   \n",
       "2       _Half  DFL-CLU-ZZZZ00  DFL-OBJ-ZZZZ08               2           1   \n",
       "\n",
       "   IS_LTR  X_LTR  Y_LTR  \n",
       "0    True   5.49  -5.57  \n",
       "1   False  -5.33  24.32  \n",
       "2   False   4.61   7.26  "
      ]
     },
     "execution_count": 4,
     "metadata": {},
     "output_type": "execute_result"
    }
   ],
   "source": [
    "position_df.head(3)"
   ]
  },
  {
   "cell_type": "markdown",
   "id": "66e96e08",
   "metadata": {},
   "source": [
    "Positional data is collected at 25 frames per second. Each row of the DataFrame represents the gathered data of one \"agent\", i.e. player, referee, or ball, at one frame.\n",
    "\n",
    "\n",
    "* N: FrameID. Numeric ID of the current frame\n",
    "* T: Real time of that frame\n",
    "* X: X-position of the agent at frame N. This represents the dimension between the two goals in meters, where the \"left\" goal is at X=-52.5 and the \"right\" goal at 52.5.\n",
    "* Y: Y-position of the agent at frame N. This represents the dimension between the two sidelines in meters, with range -34 to 34.\n",
    "* Z: Z-Position of the ball at frame N. This is always 0 except for the ball where it represents the height of the ball in meters.\n",
    "* A: Acceleration of agent.\n",
    "* S: Speed of agent.\n",
    "* M: Minute of play\n",
    "* GameSection: Generally represents the half of the game (firstHalf, secondHalf)\n",
    "* TeamId: ID of the team. Can be one of 'referree', 'BALL', and the two teams\n",
    "* PersonId: ID of the agent\n",
    "* BallPossession. Determines which team has ball possession. One of {1,2}.\n",
    "* BallStatus: Determines whether the ball is in play or if the game has stopped, e.g. due to a foul. One of {0,1}\n",
    "* IS_LTR: Determines whether the row's player and team is playing 'from left to right'\n",
    "* X_LTR: The X-Position of the player IF he would play from left to right. I.e. if he isn't, the X-position is reversed.\n",
    "* Y_LTR: The Y-Position of the player IF he would play from left to right. I.e. if he isn't, the Y-position is reversed.\n"
   ]
  },
  {
   "cell_type": "markdown",
   "id": "1bfd2eb7",
   "metadata": {},
   "source": [
    "Overall, this sample data consists of 35 minutes of play. Player and team IDs, frames, times, minutes, and GameSections are anonymized. "
   ]
  },
  {
   "cell_type": "code",
   "execution_count": 5,
   "id": "f1307e08",
   "metadata": {},
   "outputs": [
    {
     "data": {
      "text/html": [
       "<div>\n",
       "<style scoped>\n",
       "    .dataframe tbody tr th:only-of-type {\n",
       "        vertical-align: middle;\n",
       "    }\n",
       "\n",
       "    .dataframe tbody tr th {\n",
       "        vertical-align: top;\n",
       "    }\n",
       "\n",
       "    .dataframe thead th {\n",
       "        text-align: right;\n",
       "    }\n",
       "</style>\n",
       "<table border=\"1\" class=\"dataframe\">\n",
       "  <thead>\n",
       "    <tr style=\"text-align: right;\">\n",
       "      <th></th>\n",
       "      <th>N</th>\n",
       "      <th>T</th>\n",
       "      <th>X</th>\n",
       "      <th>Y</th>\n",
       "      <th>Z</th>\n",
       "      <th>D</th>\n",
       "      <th>A</th>\n",
       "      <th>S</th>\n",
       "      <th>M</th>\n",
       "      <th>GameSection</th>\n",
       "      <th>TeamId</th>\n",
       "      <th>PersonId</th>\n",
       "      <th>BallPossession</th>\n",
       "      <th>BallStatus</th>\n",
       "      <th>IS_LTR</th>\n",
       "      <th>X_LTR</th>\n",
       "      <th>Y_LTR</th>\n",
       "    </tr>\n",
       "  </thead>\n",
       "  <tbody>\n",
       "    <tr>\n",
       "      <th>19</th>\n",
       "      <td>34855</td>\n",
       "      <td>2014-01-15 10:07:40+01:00</td>\n",
       "      <td>5.59</td>\n",
       "      <td>-7.77</td>\n",
       "      <td>0.21</td>\n",
       "      <td>43.02</td>\n",
       "      <td>0.0</td>\n",
       "      <td>29.22</td>\n",
       "      <td>17</td>\n",
       "      <td>_Half</td>\n",
       "      <td>BALL</td>\n",
       "      <td>DFL-OBJ-ZZZZ13</td>\n",
       "      <td>2</td>\n",
       "      <td>1</td>\n",
       "      <td>False</td>\n",
       "      <td>-5.59</td>\n",
       "      <td>7.77</td>\n",
       "    </tr>\n",
       "    <tr>\n",
       "      <th>39</th>\n",
       "      <td>34856</td>\n",
       "      <td>2014-01-15 10:07:40.040000+01:00</td>\n",
       "      <td>5.98</td>\n",
       "      <td>-7.58</td>\n",
       "      <td>0.28</td>\n",
       "      <td>43.41</td>\n",
       "      <td>0.0</td>\n",
       "      <td>9.96</td>\n",
       "      <td>17</td>\n",
       "      <td>_Half</td>\n",
       "      <td>BALL</td>\n",
       "      <td>DFL-OBJ-ZZZZ13</td>\n",
       "      <td>2</td>\n",
       "      <td>1</td>\n",
       "      <td>False</td>\n",
       "      <td>-5.98</td>\n",
       "      <td>7.58</td>\n",
       "    </tr>\n",
       "    <tr>\n",
       "      <th>71</th>\n",
       "      <td>34857</td>\n",
       "      <td>2014-01-15 10:07:40.080000+01:00</td>\n",
       "      <td>6.36</td>\n",
       "      <td>-7.37</td>\n",
       "      <td>0.35</td>\n",
       "      <td>42.82</td>\n",
       "      <td>0.0</td>\n",
       "      <td>24.01</td>\n",
       "      <td>17</td>\n",
       "      <td>_Half</td>\n",
       "      <td>BALL</td>\n",
       "      <td>DFL-OBJ-ZZZZ13</td>\n",
       "      <td>2</td>\n",
       "      <td>1</td>\n",
       "      <td>False</td>\n",
       "      <td>-6.36</td>\n",
       "      <td>7.37</td>\n",
       "    </tr>\n",
       "    <tr>\n",
       "      <th>94</th>\n",
       "      <td>34858</td>\n",
       "      <td>2014-01-15 10:07:40.120000+01:00</td>\n",
       "      <td>6.75</td>\n",
       "      <td>-7.15</td>\n",
       "      <td>0.42</td>\n",
       "      <td>45.09</td>\n",
       "      <td>0.0</td>\n",
       "      <td>39.49</td>\n",
       "      <td>17</td>\n",
       "      <td>_Half</td>\n",
       "      <td>BALL</td>\n",
       "      <td>DFL-OBJ-ZZZZ13</td>\n",
       "      <td>2</td>\n",
       "      <td>1</td>\n",
       "      <td>False</td>\n",
       "      <td>-6.75</td>\n",
       "      <td>7.15</td>\n",
       "    </tr>\n",
       "    <tr>\n",
       "      <th>123</th>\n",
       "      <td>34859</td>\n",
       "      <td>2014-01-15 10:07:40.160000+01:00</td>\n",
       "      <td>7.10</td>\n",
       "      <td>-6.94</td>\n",
       "      <td>0.44</td>\n",
       "      <td>40.88</td>\n",
       "      <td>0.0</td>\n",
       "      <td>40.14</td>\n",
       "      <td>17</td>\n",
       "      <td>_Half</td>\n",
       "      <td>BALL</td>\n",
       "      <td>DFL-OBJ-ZZZZ13</td>\n",
       "      <td>2</td>\n",
       "      <td>1</td>\n",
       "      <td>False</td>\n",
       "      <td>-7.10</td>\n",
       "      <td>6.94</td>\n",
       "    </tr>\n",
       "    <tr>\n",
       "      <th>...</th>\n",
       "      <td>...</td>\n",
       "      <td>...</td>\n",
       "      <td>...</td>\n",
       "      <td>...</td>\n",
       "      <td>...</td>\n",
       "      <td>...</td>\n",
       "      <td>...</td>\n",
       "      <td>...</td>\n",
       "      <td>...</td>\n",
       "      <td>...</td>\n",
       "      <td>...</td>\n",
       "      <td>...</td>\n",
       "      <td>...</td>\n",
       "      <td>...</td>\n",
       "      <td>...</td>\n",
       "      <td>...</td>\n",
       "      <td>...</td>\n",
       "    </tr>\n",
       "    <tr>\n",
       "      <th>1364909</th>\n",
       "      <td>87351</td>\n",
       "      <td>2014-01-15 10:42:39.840000+01:00</td>\n",
       "      <td>8.36</td>\n",
       "      <td>34.06</td>\n",
       "      <td>0.00</td>\n",
       "      <td>0.00</td>\n",
       "      <td>0.0</td>\n",
       "      <td>29.28</td>\n",
       "      <td>52</td>\n",
       "      <td>_Half</td>\n",
       "      <td>BALL</td>\n",
       "      <td>DFL-OBJ-ZZZZ13</td>\n",
       "      <td>2</td>\n",
       "      <td>0</td>\n",
       "      <td>False</td>\n",
       "      <td>-8.36</td>\n",
       "      <td>-34.06</td>\n",
       "    </tr>\n",
       "    <tr>\n",
       "      <th>1364935</th>\n",
       "      <td>87352</td>\n",
       "      <td>2014-01-15 10:42:39.880000+01:00</td>\n",
       "      <td>8.36</td>\n",
       "      <td>34.06</td>\n",
       "      <td>0.00</td>\n",
       "      <td>0.00</td>\n",
       "      <td>0.0</td>\n",
       "      <td>29.28</td>\n",
       "      <td>52</td>\n",
       "      <td>_Half</td>\n",
       "      <td>BALL</td>\n",
       "      <td>DFL-OBJ-ZZZZ13</td>\n",
       "      <td>2</td>\n",
       "      <td>0</td>\n",
       "      <td>False</td>\n",
       "      <td>-8.36</td>\n",
       "      <td>-34.06</td>\n",
       "    </tr>\n",
       "    <tr>\n",
       "      <th>1364967</th>\n",
       "      <td>87353</td>\n",
       "      <td>2014-01-15 10:42:39.920000+01:00</td>\n",
       "      <td>8.36</td>\n",
       "      <td>34.06</td>\n",
       "      <td>0.00</td>\n",
       "      <td>0.00</td>\n",
       "      <td>0.0</td>\n",
       "      <td>29.28</td>\n",
       "      <td>52</td>\n",
       "      <td>_Half</td>\n",
       "      <td>BALL</td>\n",
       "      <td>DFL-OBJ-ZZZZ13</td>\n",
       "      <td>2</td>\n",
       "      <td>0</td>\n",
       "      <td>False</td>\n",
       "      <td>-8.36</td>\n",
       "      <td>-34.06</td>\n",
       "    </tr>\n",
       "    <tr>\n",
       "      <th>1364990</th>\n",
       "      <td>87354</td>\n",
       "      <td>2014-01-15 10:42:39.960000+01:00</td>\n",
       "      <td>8.36</td>\n",
       "      <td>34.06</td>\n",
       "      <td>0.00</td>\n",
       "      <td>0.00</td>\n",
       "      <td>0.0</td>\n",
       "      <td>29.28</td>\n",
       "      <td>52</td>\n",
       "      <td>_Half</td>\n",
       "      <td>BALL</td>\n",
       "      <td>DFL-OBJ-ZZZZ13</td>\n",
       "      <td>2</td>\n",
       "      <td>0</td>\n",
       "      <td>False</td>\n",
       "      <td>-8.36</td>\n",
       "      <td>-34.06</td>\n",
       "    </tr>\n",
       "    <tr>\n",
       "      <th>1365019</th>\n",
       "      <td>87355</td>\n",
       "      <td>2014-01-15 10:42:40+01:00</td>\n",
       "      <td>8.36</td>\n",
       "      <td>34.06</td>\n",
       "      <td>0.00</td>\n",
       "      <td>0.00</td>\n",
       "      <td>0.0</td>\n",
       "      <td>29.28</td>\n",
       "      <td>52</td>\n",
       "      <td>_Half</td>\n",
       "      <td>BALL</td>\n",
       "      <td>DFL-OBJ-ZZZZ13</td>\n",
       "      <td>2</td>\n",
       "      <td>0</td>\n",
       "      <td>False</td>\n",
       "      <td>-8.36</td>\n",
       "      <td>-34.06</td>\n",
       "    </tr>\n",
       "  </tbody>\n",
       "</table>\n",
       "<p>52501 rows × 17 columns</p>\n",
       "</div>"
      ],
      "text/plain": [
       "             N                                T     X      Y     Z      D  \\\n",
       "19       34855        2014-01-15 10:07:40+01:00  5.59  -7.77  0.21  43.02   \n",
       "39       34856 2014-01-15 10:07:40.040000+01:00  5.98  -7.58  0.28  43.41   \n",
       "71       34857 2014-01-15 10:07:40.080000+01:00  6.36  -7.37  0.35  42.82   \n",
       "94       34858 2014-01-15 10:07:40.120000+01:00  6.75  -7.15  0.42  45.09   \n",
       "123      34859 2014-01-15 10:07:40.160000+01:00  7.10  -6.94  0.44  40.88   \n",
       "...        ...                              ...   ...    ...   ...    ...   \n",
       "1364909  87351 2014-01-15 10:42:39.840000+01:00  8.36  34.06  0.00   0.00   \n",
       "1364935  87352 2014-01-15 10:42:39.880000+01:00  8.36  34.06  0.00   0.00   \n",
       "1364967  87353 2014-01-15 10:42:39.920000+01:00  8.36  34.06  0.00   0.00   \n",
       "1364990  87354 2014-01-15 10:42:39.960000+01:00  8.36  34.06  0.00   0.00   \n",
       "1365019  87355        2014-01-15 10:42:40+01:00  8.36  34.06  0.00   0.00   \n",
       "\n",
       "           A      S   M GameSection TeamId        PersonId  BallPossession  \\\n",
       "19       0.0  29.22  17       _Half   BALL  DFL-OBJ-ZZZZ13               2   \n",
       "39       0.0   9.96  17       _Half   BALL  DFL-OBJ-ZZZZ13               2   \n",
       "71       0.0  24.01  17       _Half   BALL  DFL-OBJ-ZZZZ13               2   \n",
       "94       0.0  39.49  17       _Half   BALL  DFL-OBJ-ZZZZ13               2   \n",
       "123      0.0  40.14  17       _Half   BALL  DFL-OBJ-ZZZZ13               2   \n",
       "...      ...    ...  ..         ...    ...             ...             ...   \n",
       "1364909  0.0  29.28  52       _Half   BALL  DFL-OBJ-ZZZZ13               2   \n",
       "1364935  0.0  29.28  52       _Half   BALL  DFL-OBJ-ZZZZ13               2   \n",
       "1364967  0.0  29.28  52       _Half   BALL  DFL-OBJ-ZZZZ13               2   \n",
       "1364990  0.0  29.28  52       _Half   BALL  DFL-OBJ-ZZZZ13               2   \n",
       "1365019  0.0  29.28  52       _Half   BALL  DFL-OBJ-ZZZZ13               2   \n",
       "\n",
       "         BallStatus  IS_LTR  X_LTR  Y_LTR  \n",
       "19                1   False  -5.59   7.77  \n",
       "39                1   False  -5.98   7.58  \n",
       "71                1   False  -6.36   7.37  \n",
       "94                1   False  -6.75   7.15  \n",
       "123               1   False  -7.10   6.94  \n",
       "...             ...     ...    ...    ...  \n",
       "1364909           0   False  -8.36 -34.06  \n",
       "1364935           0   False  -8.36 -34.06  \n",
       "1364967           0   False  -8.36 -34.06  \n",
       "1364990           0   False  -8.36 -34.06  \n",
       "1365019           0   False  -8.36 -34.06  \n",
       "\n",
       "[52501 rows x 17 columns]"
      ]
     },
     "execution_count": 5,
     "metadata": {},
     "output_type": "execute_result"
    }
   ],
   "source": [
    "position_df.query('TeamId == \"BALL\"')"
   ]
  },
  {
   "cell_type": "markdown",
   "id": "b741619c",
   "metadata": {},
   "source": [
    "Get the teams and their players (including referees and ball)"
   ]
  },
  {
   "cell_type": "code",
   "execution_count": 6,
   "id": "ffefd28f",
   "metadata": {},
   "outputs": [
    {
     "data": {
      "text/plain": [
       "array(['DFL-CLU-ZZZZ01', 'DFL-CLU-ZZZZ00', 'referee', 'BALL'],\n",
       "      dtype=object)"
      ]
     },
     "execution_count": 6,
     "metadata": {},
     "output_type": "execute_result"
    }
   ],
   "source": [
    "position_df.TeamId.unique()"
   ]
  },
  {
   "cell_type": "code",
   "execution_count": 7,
   "id": "bcb2b31d",
   "metadata": {},
   "outputs": [
    {
     "data": {
      "text/plain": [
       "{'BALL': array(['DFL-OBJ-ZZZZ13'], dtype=object),\n",
       " 'DFL-CLU-ZZZZ00': array(['DFL-OBJ-ZZZZ09', 'DFL-OBJ-ZZZZ08', 'DFL-OBJ-ZZZZ07',\n",
       "        'DFL-OBJ-ZZZZ10', 'DFL-OBJ-ZZZZ02', 'DFL-OBJ-ZZZZ01',\n",
       "        'DFL-OBJ-ZZZZ18', 'DFL-OBJ-ZZZZ15', 'DFL-OBJ-ZZZZ16',\n",
       "        'DFL-OBJ-ZZZZ22', 'DFL-OBJ-ZZZZ25'], dtype=object),\n",
       " 'DFL-CLU-ZZZZ01': array(['DFL-OBJ-ZZZZ06', 'DFL-OBJ-ZZZZ05', 'DFL-OBJ-ZZZZ03',\n",
       "        'DFL-OBJ-ZZZZ11', 'DFL-OBJ-ZZZZ20', 'DFL-OBJ-ZZZZ12',\n",
       "        'DFL-OBJ-ZZZZ17', 'DFL-OBJ-ZZZZ19', 'DFL-OBJ-ZZZZ21',\n",
       "        'DFL-OBJ-ZZZZ23', 'DFL-OBJ-ZZZZ14'], dtype=object),\n",
       " 'referee': array(['DFL-OBJ-ZZZZ00', 'DFL-OBJ-ZZZZ04', 'DFL-OBJ-ZZZZ24'], dtype=object)}"
      ]
     },
     "execution_count": 7,
     "metadata": {},
     "output_type": "execute_result"
    }
   ],
   "source": [
    "team_to_player_dict = position_df.groupby(\"TeamId\")['PersonId'].unique().to_dict()\n",
    "team_to_player_dict"
   ]
  },
  {
   "cell_type": "markdown",
   "id": "7ea12d68",
   "metadata": {},
   "source": [
    "Find out which team ID corresponds to which BallPossession indicator"
   ]
  },
  {
   "cell_type": "code",
   "execution_count": 8,
   "id": "25520ac9",
   "metadata": {},
   "outputs": [],
   "source": [
    "# compute distances of all agents to the ball (including ball)\n",
    "position_df = position_df.set_index('N')\n",
    "ball_df = position_df.query('TeamId == \"BALL\"')\n",
    "dist_df = pd.merge(position_df, ball_df[['X','Y']].rename(columns={'X':'Ball_X','Y':'Ball_Y'}), left_index=True, right_index=True)\n",
    "dist_df['Dist'] = np.linalg.norm(dist_df[['X','Y']] - dist_df[['Ball_X','Ball_Y']].values, axis=1)"
   ]
  },
  {
   "cell_type": "code",
   "execution_count": 12,
   "id": "8d051abb",
   "metadata": {},
   "outputs": [
    {
     "data": {
      "text/html": [
       "<div>\n",
       "<style scoped>\n",
       "    .dataframe tbody tr th:only-of-type {\n",
       "        vertical-align: middle;\n",
       "    }\n",
       "\n",
       "    .dataframe tbody tr th {\n",
       "        vertical-align: top;\n",
       "    }\n",
       "\n",
       "    .dataframe thead th {\n",
       "        text-align: right;\n",
       "    }\n",
       "</style>\n",
       "<table border=\"1\" class=\"dataframe\">\n",
       "  <thead>\n",
       "    <tr style=\"text-align: right;\">\n",
       "      <th></th>\n",
       "      <th>X</th>\n",
       "      <th>Y</th>\n",
       "      <th>Z</th>\n",
       "      <th>D</th>\n",
       "      <th>A</th>\n",
       "      <th>S</th>\n",
       "      <th>M</th>\n",
       "      <th>BallPossession</th>\n",
       "      <th>BallStatus</th>\n",
       "      <th>X_LTR</th>\n",
       "      <th>Y_LTR</th>\n",
       "      <th>Ball_X</th>\n",
       "      <th>Ball_Y</th>\n",
       "      <th>Dist</th>\n",
       "    </tr>\n",
       "  </thead>\n",
       "  <tbody>\n",
       "    <tr>\n",
       "      <th>count</th>\n",
       "      <td>2088.000000</td>\n",
       "      <td>2088.000000</td>\n",
       "      <td>2088.0</td>\n",
       "      <td>2088.000000</td>\n",
       "      <td>2088.000000</td>\n",
       "      <td>2088.00000</td>\n",
       "      <td>2088.000000</td>\n",
       "      <td>2088.000000</td>\n",
       "      <td>2088.000000</td>\n",
       "      <td>2088.000000</td>\n",
       "      <td>2088.000000</td>\n",
       "      <td>2088.000000</td>\n",
       "      <td>2088.00000</td>\n",
       "      <td>2088.000000</td>\n",
       "    </tr>\n",
       "    <tr>\n",
       "      <th>mean</th>\n",
       "      <td>-5.395273</td>\n",
       "      <td>-0.783012</td>\n",
       "      <td>0.0</td>\n",
       "      <td>8.032438</td>\n",
       "      <td>-0.384373</td>\n",
       "      <td>7.31512</td>\n",
       "      <td>32.918103</td>\n",
       "      <td>1.061782</td>\n",
       "      <td>0.874521</td>\n",
       "      <td>-5.395273</td>\n",
       "      <td>-0.783012</td>\n",
       "      <td>-5.347974</td>\n",
       "      <td>-0.82579</td>\n",
       "      <td>0.336289</td>\n",
       "    </tr>\n",
       "    <tr>\n",
       "      <th>std</th>\n",
       "      <td>28.814600</td>\n",
       "      <td>19.675650</td>\n",
       "      <td>0.0</td>\n",
       "      <td>5.931759</td>\n",
       "      <td>2.054636</td>\n",
       "      <td>5.16294</td>\n",
       "      <td>9.958154</td>\n",
       "      <td>0.240816</td>\n",
       "      <td>0.331341</td>\n",
       "      <td>28.814600</td>\n",
       "      <td>19.675650</td>\n",
       "      <td>28.851345</td>\n",
       "      <td>19.64645</td>\n",
       "      <td>0.135897</td>\n",
       "    </tr>\n",
       "    <tr>\n",
       "      <th>min</th>\n",
       "      <td>-50.620000</td>\n",
       "      <td>-34.420000</td>\n",
       "      <td>0.0</td>\n",
       "      <td>0.000000</td>\n",
       "      <td>-7.990000</td>\n",
       "      <td>0.00000</td>\n",
       "      <td>17.000000</td>\n",
       "      <td>1.000000</td>\n",
       "      <td>0.000000</td>\n",
       "      <td>-50.620000</td>\n",
       "      <td>-34.420000</td>\n",
       "      <td>-50.530000</td>\n",
       "      <td>-34.24000</td>\n",
       "      <td>0.010000</td>\n",
       "    </tr>\n",
       "    <tr>\n",
       "      <th>25%</th>\n",
       "      <td>-27.722500</td>\n",
       "      <td>-19.682500</td>\n",
       "      <td>0.0</td>\n",
       "      <td>3.290000</td>\n",
       "      <td>-1.482500</td>\n",
       "      <td>3.12000</td>\n",
       "      <td>24.000000</td>\n",
       "      <td>1.000000</td>\n",
       "      <td>1.000000</td>\n",
       "      <td>-27.722500</td>\n",
       "      <td>-19.682500</td>\n",
       "      <td>-27.572500</td>\n",
       "      <td>-19.82500</td>\n",
       "      <td>0.250000</td>\n",
       "    </tr>\n",
       "    <tr>\n",
       "      <th>50%</th>\n",
       "      <td>-6.965000</td>\n",
       "      <td>-1.850000</td>\n",
       "      <td>0.0</td>\n",
       "      <td>7.210000</td>\n",
       "      <td>0.000000</td>\n",
       "      <td>6.80000</td>\n",
       "      <td>30.000000</td>\n",
       "      <td>1.000000</td>\n",
       "      <td>1.000000</td>\n",
       "      <td>-6.965000</td>\n",
       "      <td>-1.850000</td>\n",
       "      <td>-6.985000</td>\n",
       "      <td>-1.92000</td>\n",
       "      <td>0.380132</td>\n",
       "    </tr>\n",
       "    <tr>\n",
       "      <th>75%</th>\n",
       "      <td>16.162500</td>\n",
       "      <td>15.730000</td>\n",
       "      <td>0.0</td>\n",
       "      <td>11.740000</td>\n",
       "      <td>0.840000</td>\n",
       "      <td>10.60250</td>\n",
       "      <td>41.000000</td>\n",
       "      <td>1.000000</td>\n",
       "      <td>1.000000</td>\n",
       "      <td>16.162500</td>\n",
       "      <td>15.730000</td>\n",
       "      <td>16.255000</td>\n",
       "      <td>15.41750</td>\n",
       "      <td>0.447214</td>\n",
       "    </tr>\n",
       "    <tr>\n",
       "      <th>max</th>\n",
       "      <td>50.740000</td>\n",
       "      <td>36.320000</td>\n",
       "      <td>0.0</td>\n",
       "      <td>32.710000</td>\n",
       "      <td>5.710000</td>\n",
       "      <td>28.11000</td>\n",
       "      <td>52.000000</td>\n",
       "      <td>2.000000</td>\n",
       "      <td>1.000000</td>\n",
       "      <td>50.740000</td>\n",
       "      <td>36.320000</td>\n",
       "      <td>50.540000</td>\n",
       "      <td>35.91000</td>\n",
       "      <td>0.500000</td>\n",
       "    </tr>\n",
       "  </tbody>\n",
       "</table>\n",
       "</div>"
      ],
      "text/plain": [
       "                 X            Y       Z            D            A           S  \\\n",
       "count  2088.000000  2088.000000  2088.0  2088.000000  2088.000000  2088.00000   \n",
       "mean     -5.395273    -0.783012     0.0     8.032438    -0.384373     7.31512   \n",
       "std      28.814600    19.675650     0.0     5.931759     2.054636     5.16294   \n",
       "min     -50.620000   -34.420000     0.0     0.000000    -7.990000     0.00000   \n",
       "25%     -27.722500   -19.682500     0.0     3.290000    -1.482500     3.12000   \n",
       "50%      -6.965000    -1.850000     0.0     7.210000     0.000000     6.80000   \n",
       "75%      16.162500    15.730000     0.0    11.740000     0.840000    10.60250   \n",
       "max      50.740000    36.320000     0.0    32.710000     5.710000    28.11000   \n",
       "\n",
       "                 M  BallPossession   BallStatus        X_LTR        Y_LTR  \\\n",
       "count  2088.000000     2088.000000  2088.000000  2088.000000  2088.000000   \n",
       "mean     32.918103        1.061782     0.874521    -5.395273    -0.783012   \n",
       "std       9.958154        0.240816     0.331341    28.814600    19.675650   \n",
       "min      17.000000        1.000000     0.000000   -50.620000   -34.420000   \n",
       "25%      24.000000        1.000000     1.000000   -27.722500   -19.682500   \n",
       "50%      30.000000        1.000000     1.000000    -6.965000    -1.850000   \n",
       "75%      41.000000        1.000000     1.000000    16.162500    15.730000   \n",
       "max      52.000000        2.000000     1.000000    50.740000    36.320000   \n",
       "\n",
       "            Ball_X      Ball_Y         Dist  \n",
       "count  2088.000000  2088.00000  2088.000000  \n",
       "mean     -5.347974    -0.82579     0.336289  \n",
       "std      28.851345    19.64645     0.135897  \n",
       "min     -50.530000   -34.24000     0.010000  \n",
       "25%     -27.572500   -19.82500     0.250000  \n",
       "50%      -6.985000    -1.92000     0.380132  \n",
       "75%      16.255000    15.41750     0.447214  \n",
       "max      50.540000    35.91000     0.500000  "
      ]
     },
     "execution_count": 12,
     "metadata": {},
     "output_type": "execute_result"
    }
   ],
   "source": [
    "# get all players of team DFL-CLU-ZZZZ01 that are closer to the ball than 0.5m \n",
    "ball_candidates = dist_df.sort_values('Dist').groupby('N').nth(1)\n",
    "# check average BallPossession flag\n",
    "ball_candidates.query('Dist < 0.5').query('TeamId == \"DFL-CLU-ZZZZ01\"').describe()"
   ]
  },
  {
   "cell_type": "code",
   "execution_count": 13,
   "id": "83489df1",
   "metadata": {},
   "outputs": [
    {
     "data": {
      "text/html": [
       "<div>\n",
       "<style scoped>\n",
       "    .dataframe tbody tr th:only-of-type {\n",
       "        vertical-align: middle;\n",
       "    }\n",
       "\n",
       "    .dataframe tbody tr th {\n",
       "        vertical-align: top;\n",
       "    }\n",
       "\n",
       "    .dataframe thead th {\n",
       "        text-align: right;\n",
       "    }\n",
       "</style>\n",
       "<table border=\"1\" class=\"dataframe\">\n",
       "  <thead>\n",
       "    <tr style=\"text-align: right;\">\n",
       "      <th></th>\n",
       "      <th>X</th>\n",
       "      <th>Y</th>\n",
       "      <th>Z</th>\n",
       "      <th>D</th>\n",
       "      <th>A</th>\n",
       "      <th>S</th>\n",
       "      <th>M</th>\n",
       "      <th>BallPossession</th>\n",
       "      <th>BallStatus</th>\n",
       "      <th>X_LTR</th>\n",
       "      <th>Y_LTR</th>\n",
       "      <th>Ball_X</th>\n",
       "      <th>Ball_Y</th>\n",
       "      <th>Dist</th>\n",
       "    </tr>\n",
       "  </thead>\n",
       "  <tbody>\n",
       "    <tr>\n",
       "      <th>count</th>\n",
       "      <td>2253.000000</td>\n",
       "      <td>2253.000000</td>\n",
       "      <td>2253.0</td>\n",
       "      <td>2253.000000</td>\n",
       "      <td>2253.000000</td>\n",
       "      <td>2253.000000</td>\n",
       "      <td>2253.000000</td>\n",
       "      <td>2253.000000</td>\n",
       "      <td>2253.000000</td>\n",
       "      <td>2253.000000</td>\n",
       "      <td>2253.000000</td>\n",
       "      <td>2253.000000</td>\n",
       "      <td>2253.000000</td>\n",
       "      <td>2253.000000</td>\n",
       "    </tr>\n",
       "    <tr>\n",
       "      <th>mean</th>\n",
       "      <td>18.406813</td>\n",
       "      <td>5.437958</td>\n",
       "      <td>0.0</td>\n",
       "      <td>6.882477</td>\n",
       "      <td>-0.431611</td>\n",
       "      <td>6.346951</td>\n",
       "      <td>34.538393</td>\n",
       "      <td>1.896138</td>\n",
       "      <td>0.728806</td>\n",
       "      <td>-18.406813</td>\n",
       "      <td>-5.437958</td>\n",
       "      <td>18.359458</td>\n",
       "      <td>5.446853</td>\n",
       "      <td>0.259724</td>\n",
       "    </tr>\n",
       "    <tr>\n",
       "      <th>std</th>\n",
       "      <td>23.312411</td>\n",
       "      <td>22.153031</td>\n",
       "      <td>0.0</td>\n",
       "      <td>6.890326</td>\n",
       "      <td>1.822879</td>\n",
       "      <td>6.120226</td>\n",
       "      <td>9.967352</td>\n",
       "      <td>0.305149</td>\n",
       "      <td>0.444675</td>\n",
       "      <td>23.312411</td>\n",
       "      <td>22.153031</td>\n",
       "      <td>23.312313</td>\n",
       "      <td>22.175632</td>\n",
       "      <td>0.135222</td>\n",
       "    </tr>\n",
       "    <tr>\n",
       "      <th>min</th>\n",
       "      <td>-50.170000</td>\n",
       "      <td>-34.150000</td>\n",
       "      <td>0.0</td>\n",
       "      <td>0.000000</td>\n",
       "      <td>-7.990000</td>\n",
       "      <td>0.000000</td>\n",
       "      <td>17.000000</td>\n",
       "      <td>1.000000</td>\n",
       "      <td>0.000000</td>\n",
       "      <td>-53.470000</td>\n",
       "      <td>-34.580000</td>\n",
       "      <td>-50.270000</td>\n",
       "      <td>-33.900000</td>\n",
       "      <td>0.000000</td>\n",
       "    </tr>\n",
       "    <tr>\n",
       "      <th>25%</th>\n",
       "      <td>5.150000</td>\n",
       "      <td>-11.500000</td>\n",
       "      <td>0.0</td>\n",
       "      <td>1.150000</td>\n",
       "      <td>-1.060000</td>\n",
       "      <td>1.100000</td>\n",
       "      <td>23.000000</td>\n",
       "      <td>2.000000</td>\n",
       "      <td>0.000000</td>\n",
       "      <td>-37.820000</td>\n",
       "      <td>-32.530000</td>\n",
       "      <td>5.320000</td>\n",
       "      <td>-11.490000</td>\n",
       "      <td>0.150000</td>\n",
       "    </tr>\n",
       "    <tr>\n",
       "      <th>50%</th>\n",
       "      <td>25.610000</td>\n",
       "      <td>-1.160000</td>\n",
       "      <td>0.0</td>\n",
       "      <td>4.830000</td>\n",
       "      <td>-0.050000</td>\n",
       "      <td>4.570000</td>\n",
       "      <td>37.000000</td>\n",
       "      <td>2.000000</td>\n",
       "      <td>1.000000</td>\n",
       "      <td>-25.610000</td>\n",
       "      <td>1.160000</td>\n",
       "      <td>25.700000</td>\n",
       "      <td>-1.290000</td>\n",
       "      <td>0.243516</td>\n",
       "    </tr>\n",
       "    <tr>\n",
       "      <th>75%</th>\n",
       "      <td>37.820000</td>\n",
       "      <td>32.530000</td>\n",
       "      <td>0.0</td>\n",
       "      <td>11.480000</td>\n",
       "      <td>0.320000</td>\n",
       "      <td>10.080000</td>\n",
       "      <td>43.000000</td>\n",
       "      <td>2.000000</td>\n",
       "      <td>1.000000</td>\n",
       "      <td>-5.150000</td>\n",
       "      <td>11.500000</td>\n",
       "      <td>37.760000</td>\n",
       "      <td>32.740000</td>\n",
       "      <td>0.382099</td>\n",
       "    </tr>\n",
       "    <tr>\n",
       "      <th>max</th>\n",
       "      <td>53.470000</td>\n",
       "      <td>34.580000</td>\n",
       "      <td>0.0</td>\n",
       "      <td>34.090000</td>\n",
       "      <td>5.720000</td>\n",
       "      <td>30.580000</td>\n",
       "      <td>52.000000</td>\n",
       "      <td>2.000000</td>\n",
       "      <td>1.000000</td>\n",
       "      <td>50.170000</td>\n",
       "      <td>34.150000</td>\n",
       "      <td>53.100000</td>\n",
       "      <td>34.470000</td>\n",
       "      <td>0.500000</td>\n",
       "    </tr>\n",
       "  </tbody>\n",
       "</table>\n",
       "</div>"
      ],
      "text/plain": [
       "                 X            Y       Z            D            A  \\\n",
       "count  2253.000000  2253.000000  2253.0  2253.000000  2253.000000   \n",
       "mean     18.406813     5.437958     0.0     6.882477    -0.431611   \n",
       "std      23.312411    22.153031     0.0     6.890326     1.822879   \n",
       "min     -50.170000   -34.150000     0.0     0.000000    -7.990000   \n",
       "25%       5.150000   -11.500000     0.0     1.150000    -1.060000   \n",
       "50%      25.610000    -1.160000     0.0     4.830000    -0.050000   \n",
       "75%      37.820000    32.530000     0.0    11.480000     0.320000   \n",
       "max      53.470000    34.580000     0.0    34.090000     5.720000   \n",
       "\n",
       "                 S            M  BallPossession   BallStatus        X_LTR  \\\n",
       "count  2253.000000  2253.000000     2253.000000  2253.000000  2253.000000   \n",
       "mean      6.346951    34.538393        1.896138     0.728806   -18.406813   \n",
       "std       6.120226     9.967352        0.305149     0.444675    23.312411   \n",
       "min       0.000000    17.000000        1.000000     0.000000   -53.470000   \n",
       "25%       1.100000    23.000000        2.000000     0.000000   -37.820000   \n",
       "50%       4.570000    37.000000        2.000000     1.000000   -25.610000   \n",
       "75%      10.080000    43.000000        2.000000     1.000000    -5.150000   \n",
       "max      30.580000    52.000000        2.000000     1.000000    50.170000   \n",
       "\n",
       "             Y_LTR       Ball_X       Ball_Y         Dist  \n",
       "count  2253.000000  2253.000000  2253.000000  2253.000000  \n",
       "mean     -5.437958    18.359458     5.446853     0.259724  \n",
       "std      22.153031    23.312313    22.175632     0.135222  \n",
       "min     -34.580000   -50.270000   -33.900000     0.000000  \n",
       "25%     -32.530000     5.320000   -11.490000     0.150000  \n",
       "50%       1.160000    25.700000    -1.290000     0.243516  \n",
       "75%      11.500000    37.760000    32.740000     0.382099  \n",
       "max      34.150000    53.100000    34.470000     0.500000  "
      ]
     },
     "execution_count": 13,
     "metadata": {},
     "output_type": "execute_result"
    }
   ],
   "source": [
    "# check average BallPossession flag of other team. It turns out that average BallPossession is roughly 2 here -> DFL-CLU-ZZZZ00 corresponds to BallPossession 2!\n",
    "ball_candidates.query('Dist < 0.5').query('TeamId == \"DFL-CLU-ZZZZ00\"').describe()"
   ]
  },
  {
   "cell_type": "code",
   "execution_count": null,
   "id": "2699afdc-6f61-42b2-8dac-780d0206f095",
   "metadata": {},
   "outputs": [],
   "source": []
  },
  {
   "cell_type": "markdown",
   "id": "231de40a-aa26-4436-9bdb-6100655403c8",
   "metadata": {},
   "source": [
    "# TASK"
   ]
  },
  {
   "cell_type": "markdown",
   "id": "2cfc9aa8-b122-4f39-8aab-3f0c96c7a993",
   "metadata": {},
   "source": [
    "Your task will be to determine, using the available tracking data, \n",
    "in which areas of the football pitch the ball possessing players are under most pressure from opponents. \n",
    "Your results should be visualized appropriately and your solution should be well documented. \n",
    "Note that task and solution should be considered to have more of a Proof of Concept (PoC) character. \n",
    "I.e. it is not important (and probably impossible) to find the ‘correct’ solution \n",
    "but instead you should find a solution that could be presented to the team internally \n",
    "in order to show a way and results towards a final solution. \n",
    "In order to solve the task, you have to come up with sensible \n",
    "but quick and approximate working definitions of ball possession and pressure that are easy to implement \n",
    "but also make sense from a football perspective."
   ]
  },
  {
   "cell_type": "markdown",
   "id": "06fac0fe-7dd4-4c10-b054-3773d1340f1a",
   "metadata": {},
   "source": [
    "## Definitions / Assumptions used\n",
    "### Ball possession:\n",
    "\n",
    "    1. A team is said to be in ball posession in the given frame depending on value assigned to BallPossession.\n",
    "    2. It can also be computed for the entire game by calculating # of frames associated to a team divided by the # of total frames available.\n",
    "\n",
    "### Pressure areas:\n",
    "\n",
    "    1. Attacker: A player of the team in ball possesion. Defender: Player from the team not in ball posession.\n",
    "    2. When there are 3+ defenders with 3+ attackers in < 5m AND 1 defender < 4m, it can be called organised pressing / pressure area.\n",
    "    3. Assumption: Not considering final 3rd to be the only pressing area."
   ]
  },
  {
   "cell_type": "code",
   "execution_count": 163,
   "id": "eb04645c",
   "metadata": {},
   "outputs": [],
   "source": [
    "position_df = pd.read_parquet('sample_tracking_data.parquet')\n",
    "position_df = position_df.sort_values('T')"
   ]
  },
  {
   "cell_type": "code",
   "execution_count": 164,
   "id": "66e253a4-b359-48fa-9f9b-b98293d0e4a6",
   "metadata": {},
   "outputs": [],
   "source": [
    "# compute distances of all agents to the ball (including ball)\n",
    "position_df = position_df.set_index('N')\n",
    "ball_df = position_df.query('TeamId == \"BALL\"')\n",
    "dist_df = pd.merge(position_df, ball_df[['X','Y']].rename(columns={'X':'Ball_X','Y':'Ball_Y'}), left_index=True, right_index=True)\n",
    "dist_df['Dist'] = np.linalg.norm(dist_df[['X','Y']] - dist_df[['Ball_X','Ball_Y']].values, axis=1)"
   ]
  },
  {
   "cell_type": "code",
   "execution_count": 165,
   "id": "29bec864-885f-4d73-b843-9b8b7dafd124",
   "metadata": {},
   "outputs": [],
   "source": [
    "dist_df = dist_df.reset_index()"
   ]
  },
  {
   "cell_type": "code",
   "execution_count": 166,
   "id": "859a2df0-aa99-4ec4-89cc-05a5843e751e",
   "metadata": {},
   "outputs": [],
   "source": [
    "# Compute possession and pressures in frames when ball is in play\n",
    "dist_df = dist_df[dist_df.BallStatus == 1]"
   ]
  },
  {
   "cell_type": "code",
   "execution_count": 211,
   "id": "9b5a09ef-9179-4a0a-9fe7-83a7b1baea36",
   "metadata": {},
   "outputs": [],
   "source": [
    "# We know that DFL-CLU-ZZZZ00 corresponds to BallPossession 2!\n",
    "\n",
    "# DFL-CLU-ZZZZ01 : Team 1: Orange Team\n",
    "# DFL-CLU-ZZZZ00 : Team 2: Blue Team\n",
    "\n",
    "team_1_possession_data = dist_df[dist_df.BallPossession == 1]\n",
    "team_2_possession_data = dist_df[dist_df.BallPossession == 2]"
   ]
  },
  {
   "cell_type": "code",
   "execution_count": null,
   "id": "308c060e-637f-4019-979b-4475934c6369",
   "metadata": {},
   "outputs": [],
   "source": []
  },
  {
   "cell_type": "code",
   "execution_count": 212,
   "id": "5437ff69-94b2-49f5-ad3d-2c5ce977c464",
   "metadata": {},
   "outputs": [],
   "source": [
    "# Finding Team 1 pressures\n",
    "# In possession: Team 2\n",
    "# Pressure: Team 1\n",
    "\n",
    "temp_df = team_2_possession_data[(team_2_possession_data.TeamId == 'DFL-CLU-ZZZZ00') & (team_2_possession_data.Dist < 5)]\n",
    "temp_df = temp_df.groupby('N').agg({'PersonId': 'count'}).reset_index().sort_values('PersonId')\n",
    "frames_with_3_attackers = temp_df[temp_df.PersonId >= 3].rename(columns={'PersonId': 'Team_2_Attackers'})\n",
    "\n",
    "temp_df = team_2_possession_data[(team_2_possession_data.TeamId == 'DFL-CLU-ZZZZ01') & (team_2_possession_data.Dist < 5)]\n",
    "temp_df = temp_df.groupby('N').agg({'PersonId': 'count'}).reset_index().sort_values('PersonId')\n",
    "frames_with_3_defenders = temp_df[temp_df.PersonId >= 3].rename(columns={'PersonId': 'Team_1_Defenders'})\n",
    "\n",
    "temp_df = team_2_possession_data[(team_2_possession_data.TeamId == 'DFL-CLU-ZZZZ01') & (team_2_possession_data.Dist < 4)]\n",
    "temp_df = temp_df.groupby('N').agg({'PersonId': 'count'}).reset_index().sort_values('PersonId')\n",
    "frames_with_closingdown_defenders = temp_df.rename(columns={'PersonId': 'Team_1_ClosingDown_Defender'})"
   ]
  },
  {
   "cell_type": "code",
   "execution_count": 213,
   "id": "b7f6b0f5-ab75-4463-a468-2cf88627c722",
   "metadata": {},
   "outputs": [
    {
     "name": "stdout",
     "output_type": "stream",
     "text": [
      "11\n"
     ]
    }
   ],
   "source": [
    "team_1_pressure_frames = frames_with_3_attackers.merge(frames_with_3_defenders, on='N').merge(frames_with_closingdown_defenders, on='N').sort_values('N')\n",
    "\n",
    "# # of pressing situations\n",
    "team_1_pressure_frames['frame_seq'] = team_1_pressure_frames['N'].rolling(window=2).apply(lambda x: x.iloc[1] - x.iloc[0])\n",
    "print(len(team_1_pressure_frames[team_1_pressure_frames.frame_seq > 1]))"
   ]
  },
  {
   "cell_type": "code",
   "execution_count": 217,
   "id": "e1e56833-2cc4-4de2-b90a-9500bc4a521d",
   "metadata": {},
   "outputs": [
    {
     "data": {
      "text/html": [
       "<div>\n",
       "<style scoped>\n",
       "    .dataframe tbody tr th:only-of-type {\n",
       "        vertical-align: middle;\n",
       "    }\n",
       "\n",
       "    .dataframe tbody tr th {\n",
       "        vertical-align: top;\n",
       "    }\n",
       "\n",
       "    .dataframe thead th {\n",
       "        text-align: right;\n",
       "    }\n",
       "</style>\n",
       "<table border=\"1\" class=\"dataframe\">\n",
       "  <thead>\n",
       "    <tr style=\"text-align: right;\">\n",
       "      <th></th>\n",
       "      <th>N</th>\n",
       "      <th>Team_2_Attackers</th>\n",
       "      <th>Team_1_Defenders</th>\n",
       "      <th>Team_1_ClosingDown_Defender</th>\n",
       "      <th>frame_seq</th>\n",
       "    </tr>\n",
       "  </thead>\n",
       "  <tbody>\n",
       "    <tr>\n",
       "      <th>48</th>\n",
       "      <td>36261</td>\n",
       "      <td>4</td>\n",
       "      <td>3</td>\n",
       "      <td>1</td>\n",
       "      <td>NaN</td>\n",
       "    </tr>\n",
       "    <tr>\n",
       "      <th>40</th>\n",
       "      <td>52576</td>\n",
       "      <td>3</td>\n",
       "      <td>3</td>\n",
       "      <td>2</td>\n",
       "      <td>16315.0</td>\n",
       "    </tr>\n",
       "    <tr>\n",
       "      <th>41</th>\n",
       "      <td>52577</td>\n",
       "      <td>3</td>\n",
       "      <td>3</td>\n",
       "      <td>1</td>\n",
       "      <td>1.0</td>\n",
       "    </tr>\n",
       "    <tr>\n",
       "      <th>42</th>\n",
       "      <td>52578</td>\n",
       "      <td>3</td>\n",
       "      <td>3</td>\n",
       "      <td>1</td>\n",
       "      <td>1.0</td>\n",
       "    </tr>\n",
       "    <tr>\n",
       "      <th>20</th>\n",
       "      <td>53176</td>\n",
       "      <td>3</td>\n",
       "      <td>3</td>\n",
       "      <td>1</td>\n",
       "      <td>598.0</td>\n",
       "    </tr>\n",
       "  </tbody>\n",
       "</table>\n",
       "</div>"
      ],
      "text/plain": [
       "        N  Team_2_Attackers  Team_1_Defenders  Team_1_ClosingDown_Defender  \\\n",
       "48  36261                 4                 3                            1   \n",
       "40  52576                 3                 3                            2   \n",
       "41  52577                 3                 3                            1   \n",
       "42  52578                 3                 3                            1   \n",
       "20  53176                 3                 3                            1   \n",
       "\n",
       "    frame_seq  \n",
       "48        NaN  \n",
       "40    16315.0  \n",
       "41        1.0  \n",
       "42        1.0  \n",
       "20      598.0  "
      ]
     },
     "execution_count": 217,
     "metadata": {},
     "output_type": "execute_result"
    }
   ],
   "source": [
    "team_1_pressure_frames.head()"
   ]
  },
  {
   "cell_type": "code",
   "execution_count": 216,
   "id": "7816a339-af12-4cc4-be82-ec655fbe8cce",
   "metadata": {},
   "outputs": [
    {
     "name": "stderr",
     "output_type": "stream",
     "text": [
      "/var/folders/7v/9m4nyvsx4d1b9m1n9y_plznr0000gn/T/ipykernel_6851/3943884409.py:29: DeprecationWarning: Starting with ImageIO v3 the behavior of this function will switch to that of iio.v3.imread. To keep the current behavior (and make this warning dissapear) use `import imageio.v2 as imageio` or call `imageio.v2.imread` directly.\n",
      "  image = imageio.imread(filename)\n"
     ]
    }
   ],
   "source": [
    "create_gif(start_frame=63702-30, end_frame=63713+30, gif_file_name='team_1_pressure_sample4')"
   ]
  },
  {
   "cell_type": "code",
   "execution_count": 159,
   "id": "5cae5e3e-89be-4a71-9eb3-523f2556a504",
   "metadata": {},
   "outputs": [],
   "source": [
    "# team 1 pressure examples\n",
    "# 63672, 63743, sample1\n",
    "# 76151, 76221, sample2\n",
    "# 77232, 77299, sample3"
   ]
  },
  {
   "cell_type": "code",
   "execution_count": null,
   "id": "a9a7f9d5-f826-463b-9b01-b868bb828bab",
   "metadata": {},
   "outputs": [],
   "source": []
  },
  {
   "cell_type": "code",
   "execution_count": 168,
   "id": "87bc6fcb-a224-46d6-a520-d8c5f7fe0d35",
   "metadata": {},
   "outputs": [],
   "source": [
    "# Finding Team 2 pressures\n",
    "# In possession: Team 1\n",
    "# Pressure: Team 2\n",
    "\n",
    "temp_df = team_1_possession_data[(team_1_possession_data.TeamId == 'DFL-CLU-ZZZZ01') & (team_1_possession_data.Dist < 5)]\n",
    "temp_df = temp_df.groupby('N').agg({'PersonId': 'count'}).reset_index().sort_values('PersonId')\n",
    "frames_with_3_attackers = temp_df[temp_df.PersonId >= 3].rename(columns={'PersonId': 'Team_1_Attackers'})\n",
    "\n",
    "temp_df = team_1_possession_data[(team_1_possession_data.TeamId == 'DFL-CLU-ZZZZ00') & (team_1_possession_data.Dist < 5)]\n",
    "temp_df = temp_df.groupby('N').agg({'PersonId': 'count'}).reset_index().sort_values('PersonId')\n",
    "frames_with_3_defenders = temp_df[temp_df.PersonId >= 3].rename(columns={'PersonId': 'Team_2_Defenders'})\n",
    "\n",
    "temp_df = team_1_possession_data[(team_1_possession_data.TeamId == 'DFL-CLU-ZZZZ00') & (team_1_possession_data.Dist < 4)]\n",
    "temp_df = temp_df.groupby('N').agg({'PersonId': 'count'}).reset_index().sort_values('PersonId')\n",
    "frames_with_closingdown_defenders = temp_df.rename(columns={'PersonId': 'Team_2_ClosingDown_Defender'})"
   ]
  },
  {
   "cell_type": "code",
   "execution_count": 169,
   "id": "f0b1210a-2e49-4a20-a8c0-b7e8476f21ff",
   "metadata": {},
   "outputs": [
    {
     "name": "stdout",
     "output_type": "stream",
     "text": [
      "15\n"
     ]
    }
   ],
   "source": [
    "team_2_pressure_frames = frames_with_3_attackers.merge(frames_with_3_defenders, on='N').merge(frames_with_closingdown_defenders, on='N').sort_values('N')\n",
    "\n",
    "# # of pressing situations\n",
    "team_2_pressure_frames['frame_seq'] = team_2_pressure_frames['N'].rolling(window=2).apply(lambda x: x.iloc[1] - x.iloc[0])\n",
    "print(len(team_2_pressure_frames[team_2_pressure_frames.frame_seq > 1]))"
   ]
  },
  {
   "cell_type": "code",
   "execution_count": 172,
   "id": "5d630088-4d65-4164-94b1-97731915efa3",
   "metadata": {},
   "outputs": [
    {
     "name": "stderr",
     "output_type": "stream",
     "text": [
      "/var/folders/7v/9m4nyvsx4d1b9m1n9y_plznr0000gn/T/ipykernel_6851/3943884409.py:29: DeprecationWarning: Starting with ImageIO v3 the behavior of this function will switch to that of iio.v3.imread. To keep the current behavior (and make this warning dissapear) use `import imageio.v2 as imageio` or call `imageio.v2.imread` directly.\n",
      "  image = imageio.imread(filename)\n"
     ]
    }
   ],
   "source": [
    "create_gif(start_frame=36250-30, end_frame=36260+30, gif_file_name='team_2_pressure_sample1')"
   ]
  },
  {
   "cell_type": "code",
   "execution_count": null,
   "id": "ebbe9dcd-f706-4941-bd18-8fce0169b466",
   "metadata": {},
   "outputs": [],
   "source": [
    "# team 2 pressure examples\n",
    "# 36220, 36290, sample1\n",
    "# 43069, 43139, sample2\n",
    "# 43731, 43822, sample3\n",
    "# 77242, 77358, sample4\n",
    "# 78341, 78406, sample5\n",
    "# 83654, 83720, sample6"
   ]
  },
  {
   "cell_type": "code",
   "execution_count": null,
   "id": "7268120d-1caa-40b5-8be7-920abc50360d",
   "metadata": {},
   "outputs": [],
   "source": []
  },
  {
   "cell_type": "code",
   "execution_count": null,
   "id": "c965391e-23aa-4b74-bd37-94b7b84a48ac",
   "metadata": {},
   "outputs": [],
   "source": [
    "from matplotlib.colors import LinearSegmentedColormap\n",
    "from mplsoccer import VerticalPitch, FontManager, Sbopen\n",
    "import matplotlib.patheffects as path_effects\n",
    "pearl_earring_cmap = LinearSegmentedColormap.from_list(\"Pearl Earring - 10 colors\",\n",
    "                                                       ['#15242e', '#4393c4'], N=10)\n",
    "# fontmanager for google font (robotto)\n",
    "robotto_regular = FontManager()\n",
    "\n",
    "path_eff = [path_effects.Stroke(linewidth=3, foreground='black'),\n",
    "            path_effects.Normal()]"
   ]
  },
  {
   "cell_type": "code",
   "execution_count": 253,
   "id": "dc434f4c-a12d-4565-90f5-2cd565b30bb9",
   "metadata": {},
   "outputs": [
    {
     "data": {
      "image/png": "[encoded data removed]",
      "text/plain": [
       "<Figure size 412.5x600 with 1 Axes>"
      ]
     },
     "metadata": {},
     "output_type": "display_data"
    }
   ],
   "source": [
    "position_df = pd.read_parquet('sample_tracking_data.parquet')\n",
    "position_df = position_df.sort_values('T')\n",
    "\n",
    "# DFL-CLU-ZZZZ01 : Team 1: Orange Team\n",
    "# DFL-CLU-ZZZZ00 : Team 2: Blue Team\n",
    "\n",
    "position_df_team_1_pressure = position_df[position_df.N.isin(team_1_pressure_frames.N) & (position_df.TeamId == 'DFL-CLU-ZZZZ01')  & (position_df.BallPossession == 2)]\n",
    "position_df_team_2_pressure = position_df[position_df.N.isin(team_2_pressure_frames.N) & (position_df.TeamId == 'DFL-CLU-ZZZZ00')  & (position_df.BallPossession == 1)]\n",
    "\n",
    "\n",
    "# setup pitch\n",
    "pitch = VerticalPitch(pitch_type='statsbomb', line_zorder=2,\n",
    "                      pitch_color='#22312b', line_color='white')\n",
    "# draw\n",
    "fig, ax = pitch.draw(figsize=(4.125, 6))\n",
    "bin_statistic = pitch.bin_statistic_positional(position_df_team_1_pressure.X+pitch_x_offset, \n",
    "                                               position_df_team_1_pressure.Y+pitch_y_offset, \n",
    "                                               statistic='count',\n",
    "                                               positional='full', normalize=True)\n",
    "pitch.heatmap_positional(bin_statistic, ax=ax, cmap='coolwarm', edgecolors='#22312b')\n",
    "labels = pitch.label_heatmap(bin_statistic, color='#f4edf0', fontsize=18,\n",
    "                             ax=ax, ha='center', va='center',\n",
    "                             str_format='{:.0%}', path_effects=path_eff)"
   ]
  },
  {
   "cell_type": "code",
   "execution_count": 255,
   "id": "a2c85841-109f-4fee-84c1-6ac713707f0e",
   "metadata": {},
   "outputs": [
    {
     "data": {
      "image/png": "[encoded data removed]",
      "text/plain": [
       "<Figure size 412.5x600 with 1 Axes>"
      ]
     },
     "metadata": {},
     "output_type": "display_data"
    }
   ],
   "source": [
    "position_df = pd.read_parquet('sample_tracking_data.parquet')\n",
    "position_df = position_df.sort_values('T')\n",
    "\n",
    "# DFL-CLU-ZZZZ01 : Team 1: Orange Team\n",
    "# DFL-CLU-ZZZZ00 : Team 2: Blue Team\n",
    "\n",
    "position_df_team_1_pressure = position_df[position_df.N.isin(team_1_pressure_frames.N) & (position_df.TeamId == 'DFL-CLU-ZZZZ01')  & (position_df.BallPossession == 2)]\n",
    "position_df_team_2_pressure = position_df[position_df.N.isin(team_2_pressure_frames.N) & (position_df.TeamId == 'DFL-CLU-ZZZZ00')  & (position_df.BallPossession == 1)]\n",
    "\n",
    "# setup pitch\n",
    "pitch = VerticalPitch(pitch_type='statsbomb', line_zorder=2,\n",
    "                      pitch_color='#22312b', line_color='white')\n",
    "# draw\n",
    "fig, ax = pitch.draw(figsize=(4.125, 6))\n",
    "bin_statistic = pitch.bin_statistic_positional(position_df_team_2_pressure.X+pitch_x_offset, \n",
    "                                               position_df_team_2_pressure.Y+pitch_y_offset, \n",
    "                                               statistic='count',\n",
    "                                               positional='full', normalize=True)\n",
    "pitch.heatmap_positional(bin_statistic, ax=ax, cmap='coolwarm', edgecolors='#22312b')\n",
    "labels = pitch.label_heatmap(bin_statistic, color='#f4edf0', fontsize=18,\n",
    "                             ax=ax, ha='center', va='center',\n",
    "                             str_format='{:.0%}', path_effects=path_eff)"
   ]
  },
  {
   "cell_type": "markdown",
   "id": "04abdf04-cf5b-445f-9d1f-c926ddc5c382",
   "metadata": {},
   "source": [
    "Final thoughts:\n",
    "    \n",
    "    1. A lot of duels were fought in Team1's penalty box and in central areas of the pitch.\n",
    "    2. Team1 likes pressing from the front especially in the left wing / striker zones. And, defensive actions in their own box.\n",
    "    3. Team2 have heavy pressing actions in their own half and primarily central zones. Also, pressures seen in opposition box.\n",
    "    4. Team 2 has more examples of pressing scenarios than team 1.\n",
    "    5. Found a lot more dead ball situations than I had expected. Unclear on that.\n",
    "\n",
    "    \n",
    "Metrics that should be investigated / related to pressures:\n",
    "\n",
    "    High turnovers.\n",
    "    Shots post successful pressures. (from defending team)\n",
    "    PPDA. (Passes per Defensive Actions)\n",
    "    \n",
    "References used:\n",
    "\n",
    "    MPLSoccer python package\n",
    "    Statsbomb\n",
    "    Soccermatics\n",
    "    Stats Perform"
   ]
  },
  {
   "cell_type": "code",
   "execution_count": null,
   "id": "77e6f4dc-7944-48a3-a9bc-a515ed379718",
   "metadata": {},
   "outputs": [],
   "source": []
  },
  {
   "cell_type": "code",
   "execution_count": 237,
   "id": "9e5737ef-ca45-41e2-9f50-00a79c66be33",
   "metadata": {},
   "outputs": [],
   "source": [
    "def create_gif(start_frame, end_frame, gif_file_name):\n",
    "    filenames = []\n",
    "    position_df = pd.read_parquet('sample_tracking_data.parquet')\n",
    "    position_df = position_df.sort_values('T')\n",
    "\n",
    "    for frame in range(start_frame, end_frame):\n",
    "        scene = position_df[position_df.N == frame]\n",
    "        pitch = Pitch(axis=True, label=True, tick=True, positional=True)\n",
    "\n",
    "        # specifying figure size (width, height)\n",
    "        pitch_x_offset = 52.5\n",
    "        pitch_y_offset = 34\n",
    "        fig, ax = pitch.draw(figsize=(10, 5))\n",
    "\n",
    "        pitch.scatter(scene[(scene.TeamId == 'DFL-CLU-ZZZZ01')].X+pitch_x_offset, scene[(scene.TeamId == 'DFL-CLU-ZZZZ01')].Y+pitch_y_offset, c='orange', s=80, ec='k', ax=ax)\n",
    "        pitch.scatter(scene[(scene.TeamId == 'DFL-CLU-ZZZZ00')].X+pitch_x_offset, scene[(scene.TeamId == 'DFL-CLU-ZZZZ00')].Y+pitch_y_offset, c='dodgerblue', s=80, ec='k', ax=ax)\n",
    "        pitch.scatter(scene[(scene.TeamId == 'BALL')].X+pitch_x_offset, scene[(scene.TeamId == 'BALL')].Y+pitch_y_offset, c='red', s=40, ec='k', ax=ax)\n",
    "\n",
    "        filename = f'/Users/abhinavralhan/Desktop/Jupyter/personal/sportec/frames/{str(frame)}.png'\n",
    "        filenames.append(filename)\n",
    "\n",
    "        # save frame\n",
    "        plt.savefig(filename)\n",
    "        plt.close()\n",
    "\n",
    "    # build gif\n",
    "    with imageio.get_writer(f'/Users/abhinavralhan/Desktop/Jupyter/personal/sportec/{gif_file_name}.gif', mode='I') as writer:\n",
    "        for filename in filenames:\n",
    "            image = imageio.imread(filename)\n",
    "            writer.append_data(image)"
   ]
  },
  {
   "cell_type": "code",
   "execution_count": null,
   "id": "db6ae214-fdb1-4720-aa9a-f4263c6b597a",
   "metadata": {},
   "outputs": [],
   "source": []
  },
  {
   "cell_type": "code",
   "execution_count": 229,
   "id": "b86f46b2-bf21-427e-a73d-40e229ef0542",
   "metadata": {},
   "outputs": [],
   "source": [
    "######### EXPLORATORY ###########"
   ]
  },
  {
   "cell_type": "code",
   "execution_count": 18,
   "id": "77e20bcf-b5a1-49e0-b041-85bee1a5e52e",
   "metadata": {},
   "outputs": [
    {
     "data": {
      "text/plain": [
       "array(['DFL-CLU-ZZZZ01', 'DFL-CLU-ZZZZ00', 'referee', 'BALL'],\n",
       "      dtype=object)"
      ]
     },
     "execution_count": 18,
     "metadata": {},
     "output_type": "execute_result"
    }
   ],
   "source": [
    "position_df.TeamId.unique()"
   ]
  },
  {
   "cell_type": "code",
   "execution_count": 19,
   "id": "78f1ccc8-4252-4056-833a-1b28e6ae3b86",
   "metadata": {},
   "outputs": [
    {
     "data": {
      "text/plain": [
       "(26, 26)"
      ]
     },
     "execution_count": 19,
     "metadata": {},
     "output_type": "execute_result"
    }
   ],
   "source": [
    "position_df.PersonId.nunique(), position_df[position_df.N == 34855].PersonId.nunique()"
   ]
  },
  {
   "cell_type": "code",
   "execution_count": 20,
   "id": "c9df8964-aa51-43d7-952b-58185d545a67",
   "metadata": {},
   "outputs": [
    {
     "data": {
      "text/plain": [
       "TeamId          PersonId      \n",
       "BALL            DFL-OBJ-ZZZZ13    1\n",
       "DFL-CLU-ZZZZ00  DFL-OBJ-ZZZZ01    1\n",
       "                DFL-OBJ-ZZZZ02    1\n",
       "                DFL-OBJ-ZZZZ07    1\n",
       "                DFL-OBJ-ZZZZ08    1\n",
       "                DFL-OBJ-ZZZZ09    1\n",
       "                DFL-OBJ-ZZZZ10    1\n",
       "                DFL-OBJ-ZZZZ15    1\n",
       "                DFL-OBJ-ZZZZ16    1\n",
       "                DFL-OBJ-ZZZZ18    1\n",
       "                DFL-OBJ-ZZZZ22    1\n",
       "                DFL-OBJ-ZZZZ25    1\n",
       "DFL-CLU-ZZZZ01  DFL-OBJ-ZZZZ03    1\n",
       "                DFL-OBJ-ZZZZ05    1\n",
       "                DFL-OBJ-ZZZZ06    1\n",
       "                DFL-OBJ-ZZZZ11    1\n",
       "                DFL-OBJ-ZZZZ12    1\n",
       "                DFL-OBJ-ZZZZ14    1\n",
       "                DFL-OBJ-ZZZZ17    1\n",
       "                DFL-OBJ-ZZZZ19    1\n",
       "                DFL-OBJ-ZZZZ20    1\n",
       "                DFL-OBJ-ZZZZ21    1\n",
       "                DFL-OBJ-ZZZZ23    1\n",
       "referee         DFL-OBJ-ZZZZ00    1\n",
       "                DFL-OBJ-ZZZZ04    1\n",
       "                DFL-OBJ-ZZZZ24    1\n",
       "Name: PersonId, dtype: int64"
      ]
     },
     "execution_count": 20,
     "metadata": {},
     "output_type": "execute_result"
    }
   ],
   "source": [
    "position_df[position_df.N == 34855].groupby('TeamId').PersonId.value_counts()"
   ]
  },
  {
   "cell_type": "code",
   "execution_count": 21,
   "id": "fb104e54-048c-48ad-b08e-953d0c577b38",
   "metadata": {},
   "outputs": [
    {
     "data": {
      "text/plain": [
       "1    759356\n",
       "0    605670\n",
       "Name: BallStatus, dtype: int64"
      ]
     },
     "execution_count": 21,
     "metadata": {},
     "output_type": "execute_result"
    }
   ],
   "source": [
    "position_df.BallStatus.value_counts()"
   ]
  },
  {
   "cell_type": "code",
   "execution_count": 22,
   "id": "44bea1a0-677f-4449-b636-6b477dcf5573",
   "metadata": {},
   "outputs": [
    {
     "data": {
      "text/plain": [
       "1    57.216053\n",
       "2    42.783947\n",
       "Name: BallPossession, dtype: float64"
      ]
     },
     "execution_count": 22,
     "metadata": {},
     "output_type": "execute_result"
    }
   ],
   "source": [
    "position_df.BallPossession.value_counts(normalize=True)*100"
   ]
  },
  {
   "cell_type": "code",
   "execution_count": 23,
   "id": "47a3c96e-0b58-41ca-bada-4ae1b91525c2",
   "metadata": {},
   "outputs": [
    {
     "data": {
      "text/plain": [
       "BallPossession  BallStatus\n",
       "1               1             471588\n",
       "                0             309426\n",
       "2               0             296244\n",
       "                1             287768\n",
       "Name: BallStatus, dtype: int64"
      ]
     },
     "execution_count": 23,
     "metadata": {},
     "output_type": "execute_result"
    }
   ],
   "source": [
    "position_df.groupby('BallPossession').BallStatus.value_counts()"
   ]
  },
  {
   "cell_type": "code",
   "execution_count": 24,
   "id": "2243ee1b-e600-47ee-86cd-3ba4353ed6e3",
   "metadata": {},
   "outputs": [
    {
     "data": {
      "text/plain": [
       "DFL-CLU-ZZZZ00    42.307692\n",
       "DFL-CLU-ZZZZ01    42.307692\n",
       "referee           11.538462\n",
       "BALL               3.846154\n",
       "Name: TeamId, dtype: float64"
      ]
     },
     "execution_count": 24,
     "metadata": {},
     "output_type": "execute_result"
    }
   ],
   "source": [
    "position_df[position_df.BallStatus == 0].TeamId.value_counts(normalize=True)*100"
   ]
  },
  {
   "cell_type": "code",
   "execution_count": 25,
   "id": "f5837a2e-e7aa-4c2e-8a12-51669f24ea09",
   "metadata": {},
   "outputs": [
    {
     "data": {
      "text/plain": [
       "DFL-CLU-ZZZZ01    42.307692\n",
       "DFL-CLU-ZZZZ00    42.307692\n",
       "referee           11.538462\n",
       "BALL               3.846154\n",
       "Name: TeamId, dtype: float64"
      ]
     },
     "execution_count": 25,
     "metadata": {},
     "output_type": "execute_result"
    }
   ],
   "source": [
    "position_df[position_df.BallStatus == 1].TeamId.value_counts(normalize=True)*100"
   ]
  },
  {
   "cell_type": "code",
   "execution_count": null,
   "id": "71914bf9-31a7-4c81-8f1d-ac8818287a82",
   "metadata": {},
   "outputs": [],
   "source": []
  },
  {
   "cell_type": "code",
   "execution_count": 26,
   "id": "ec978d12-4ec5-4796-8603-bc17fbd64b83",
   "metadata": {},
   "outputs": [],
   "source": [
    "in_possession_team_1 = position_df[position_df.BallPossession == 1]"
   ]
  },
  {
   "cell_type": "code",
   "execution_count": 27,
   "id": "da0ddd98-944e-4bed-8d88-5c446f8dea7d",
   "metadata": {},
   "outputs": [
    {
     "data": {
      "text/plain": [
       "(1365026, 19)"
      ]
     },
     "execution_count": 27,
     "metadata": {},
     "output_type": "execute_result"
    }
   ],
   "source": [
    "dist_df.shape"
   ]
  },
  {
   "cell_type": "code",
   "execution_count": 28,
   "id": "d99c8be7-779c-416b-a255-8b2a37d333aa",
   "metadata": {},
   "outputs": [
    {
     "data": {
      "text/html": [
       "<div>\n",
       "<style scoped>\n",
       "    .dataframe tbody tr th:only-of-type {\n",
       "        vertical-align: middle;\n",
       "    }\n",
       "\n",
       "    .dataframe tbody tr th {\n",
       "        vertical-align: top;\n",
       "    }\n",
       "\n",
       "    .dataframe thead th {\n",
       "        text-align: right;\n",
       "    }\n",
       "</style>\n",
       "<table border=\"1\" class=\"dataframe\">\n",
       "  <thead>\n",
       "    <tr style=\"text-align: right;\">\n",
       "      <th></th>\n",
       "      <th>T</th>\n",
       "      <th>X</th>\n",
       "      <th>Y</th>\n",
       "      <th>Z</th>\n",
       "      <th>D</th>\n",
       "      <th>A</th>\n",
       "      <th>S</th>\n",
       "      <th>M</th>\n",
       "      <th>GameSection</th>\n",
       "      <th>TeamId</th>\n",
       "      <th>PersonId</th>\n",
       "      <th>BallPossession</th>\n",
       "      <th>BallStatus</th>\n",
       "      <th>IS_LTR</th>\n",
       "      <th>X_LTR</th>\n",
       "      <th>Y_LTR</th>\n",
       "      <th>Ball_X</th>\n",
       "      <th>Ball_Y</th>\n",
       "      <th>Dist</th>\n",
       "    </tr>\n",
       "    <tr>\n",
       "      <th>N</th>\n",
       "      <th></th>\n",
       "      <th></th>\n",
       "      <th></th>\n",
       "      <th></th>\n",
       "      <th></th>\n",
       "      <th></th>\n",
       "      <th></th>\n",
       "      <th></th>\n",
       "      <th></th>\n",
       "      <th></th>\n",
       "      <th></th>\n",
       "      <th></th>\n",
       "      <th></th>\n",
       "      <th></th>\n",
       "      <th></th>\n",
       "      <th></th>\n",
       "      <th></th>\n",
       "      <th></th>\n",
       "      <th></th>\n",
       "    </tr>\n",
       "  </thead>\n",
       "  <tbody>\n",
       "    <tr>\n",
       "      <th>34855</th>\n",
       "      <td>2014-01-15 10:07:40+01:00</td>\n",
       "      <td>5.49</td>\n",
       "      <td>-5.57</td>\n",
       "      <td>0.0</td>\n",
       "      <td>12.86</td>\n",
       "      <td>-1.90</td>\n",
       "      <td>12.02</td>\n",
       "      <td>17</td>\n",
       "      <td>_Half</td>\n",
       "      <td>DFL-CLU-ZZZZ01</td>\n",
       "      <td>DFL-OBJ-ZZZZ06</td>\n",
       "      <td>2</td>\n",
       "      <td>1</td>\n",
       "      <td>True</td>\n",
       "      <td>5.49</td>\n",
       "      <td>-5.57</td>\n",
       "      <td>5.59</td>\n",
       "      <td>-7.77</td>\n",
       "      <td>2.202272</td>\n",
       "    </tr>\n",
       "    <tr>\n",
       "      <th>34855</th>\n",
       "      <td>2014-01-15 10:07:40+01:00</td>\n",
       "      <td>5.33</td>\n",
       "      <td>-24.32</td>\n",
       "      <td>0.0</td>\n",
       "      <td>3.31</td>\n",
       "      <td>-0.61</td>\n",
       "      <td>2.81</td>\n",
       "      <td>17</td>\n",
       "      <td>_Half</td>\n",
       "      <td>DFL-CLU-ZZZZ00</td>\n",
       "      <td>DFL-OBJ-ZZZZ09</td>\n",
       "      <td>2</td>\n",
       "      <td>1</td>\n",
       "      <td>False</td>\n",
       "      <td>-5.33</td>\n",
       "      <td>24.32</td>\n",
       "      <td>5.59</td>\n",
       "      <td>-7.77</td>\n",
       "      <td>16.552042</td>\n",
       "    </tr>\n",
       "    <tr>\n",
       "      <th>34855</th>\n",
       "      <td>2014-01-15 10:07:40+01:00</td>\n",
       "      <td>-4.61</td>\n",
       "      <td>-7.26</td>\n",
       "      <td>0.0</td>\n",
       "      <td>4.97</td>\n",
       "      <td>-0.44</td>\n",
       "      <td>5.00</td>\n",
       "      <td>17</td>\n",
       "      <td>_Half</td>\n",
       "      <td>DFL-CLU-ZZZZ00</td>\n",
       "      <td>DFL-OBJ-ZZZZ08</td>\n",
       "      <td>2</td>\n",
       "      <td>1</td>\n",
       "      <td>False</td>\n",
       "      <td>4.61</td>\n",
       "      <td>7.26</td>\n",
       "      <td>5.59</td>\n",
       "      <td>-7.77</td>\n",
       "      <td>10.212742</td>\n",
       "    </tr>\n",
       "    <tr>\n",
       "      <th>34855</th>\n",
       "      <td>2014-01-15 10:07:40+01:00</td>\n",
       "      <td>-5.68</td>\n",
       "      <td>-31.77</td>\n",
       "      <td>0.0</td>\n",
       "      <td>4.27</td>\n",
       "      <td>0.20</td>\n",
       "      <td>3.96</td>\n",
       "      <td>17</td>\n",
       "      <td>_Half</td>\n",
       "      <td>DFL-CLU-ZZZZ00</td>\n",
       "      <td>DFL-OBJ-ZZZZ07</td>\n",
       "      <td>2</td>\n",
       "      <td>1</td>\n",
       "      <td>False</td>\n",
       "      <td>5.68</td>\n",
       "      <td>31.77</td>\n",
       "      <td>5.59</td>\n",
       "      <td>-7.77</td>\n",
       "      <td>26.514390</td>\n",
       "    </tr>\n",
       "    <tr>\n",
       "      <th>34855</th>\n",
       "      <td>2014-01-15 10:07:40+01:00</td>\n",
       "      <td>-37.97</td>\n",
       "      <td>-1.59</td>\n",
       "      <td>0.0</td>\n",
       "      <td>1.55</td>\n",
       "      <td>0.33</td>\n",
       "      <td>0.24</td>\n",
       "      <td>17</td>\n",
       "      <td>_Half</td>\n",
       "      <td>DFL-CLU-ZZZZ01</td>\n",
       "      <td>DFL-OBJ-ZZZZ05</td>\n",
       "      <td>2</td>\n",
       "      <td>1</td>\n",
       "      <td>True</td>\n",
       "      <td>-37.97</td>\n",
       "      <td>-1.59</td>\n",
       "      <td>5.59</td>\n",
       "      <td>-7.77</td>\n",
       "      <td>43.996204</td>\n",
       "    </tr>\n",
       "  </tbody>\n",
       "</table>\n",
       "</div>"
      ],
      "text/plain": [
       "                              T      X      Y    Z      D     A      S   M  \\\n",
       "N                                                                            \n",
       "34855 2014-01-15 10:07:40+01:00   5.49  -5.57  0.0  12.86 -1.90  12.02  17   \n",
       "34855 2014-01-15 10:07:40+01:00   5.33 -24.32  0.0   3.31 -0.61   2.81  17   \n",
       "34855 2014-01-15 10:07:40+01:00  -4.61  -7.26  0.0   4.97 -0.44   5.00  17   \n",
       "34855 2014-01-15 10:07:40+01:00  -5.68 -31.77  0.0   4.27  0.20   3.96  17   \n",
       "34855 2014-01-15 10:07:40+01:00 -37.97  -1.59  0.0   1.55  0.33   0.24  17   \n",
       "\n",
       "      GameSection          TeamId        PersonId  BallPossession  BallStatus  \\\n",
       "N                                                                               \n",
       "34855       _Half  DFL-CLU-ZZZZ01  DFL-OBJ-ZZZZ06               2           1   \n",
       "34855       _Half  DFL-CLU-ZZZZ00  DFL-OBJ-ZZZZ09               2           1   \n",
       "34855       _Half  DFL-CLU-ZZZZ00  DFL-OBJ-ZZZZ08               2           1   \n",
       "34855       _Half  DFL-CLU-ZZZZ00  DFL-OBJ-ZZZZ07               2           1   \n",
       "34855       _Half  DFL-CLU-ZZZZ01  DFL-OBJ-ZZZZ05               2           1   \n",
       "\n",
       "       IS_LTR  X_LTR  Y_LTR  Ball_X  Ball_Y       Dist  \n",
       "N                                                       \n",
       "34855    True   5.49  -5.57    5.59   -7.77   2.202272  \n",
       "34855   False  -5.33  24.32    5.59   -7.77  16.552042  \n",
       "34855   False   4.61   7.26    5.59   -7.77  10.212742  \n",
       "34855   False   5.68  31.77    5.59   -7.77  26.514390  \n",
       "34855    True -37.97  -1.59    5.59   -7.77  43.996204  "
      ]
     },
     "execution_count": 28,
     "metadata": {},
     "output_type": "execute_result"
    }
   ],
   "source": [
    "dist_df.head()"
   ]
  },
  {
   "cell_type": "code",
   "execution_count": 29,
   "id": "9528586e-552e-4d6e-b7ea-372e9bb0e4bf",
   "metadata": {},
   "outputs": [
    {
     "data": {
      "text/plain": [
       "52501"
      ]
     },
     "execution_count": 29,
     "metadata": {},
     "output_type": "execute_result"
    }
   ],
   "source": [
    "dist_df.reset_index().N.nunique()"
   ]
  },
  {
   "cell_type": "code",
   "execution_count": 30,
   "id": "178ce628-03ac-4f48-9f33-3e7542dbdea9",
   "metadata": {},
   "outputs": [
    {
     "data": {
      "text/plain": [
       "1    330429\n",
       "2    247082\n",
       "Name: BallPossession, dtype: int64"
      ]
     },
     "execution_count": 30,
     "metadata": {},
     "output_type": "execute_result"
    }
   ],
   "source": [
    "dist_df[(dist_df.TeamId == 'DFL-CLU-ZZZZ01')].BallPossession.value_counts()"
   ]
  },
  {
   "cell_type": "code",
   "execution_count": 31,
   "id": "b30ffcf7-899f-46aa-bcaf-c672d12ddc11",
   "metadata": {
    "tags": []
   },
   "outputs": [
    {
     "data": {
      "text/plain": [
       "(330429, 19)"
      ]
     },
     "execution_count": 31,
     "metadata": {},
     "output_type": "execute_result"
    }
   ],
   "source": [
    "dist_df[(dist_df.TeamId == 'DFL-CLU-ZZZZ01') & (dist_df.BallPossession == 1)].shape"
   ]
  },
  {
   "cell_type": "code",
   "execution_count": 32,
   "id": "353cbb25-4f7d-4d44-ae8b-74dc42a1ef7d",
   "metadata": {},
   "outputs": [],
   "source": [
    "scene = position_df[position_df.N == 34856]"
   ]
  },
  {
   "cell_type": "code",
   "execution_count": 33,
   "id": "e6d0c498-d14c-4b6c-8cf4-b25fd724a43f",
   "metadata": {},
   "outputs": [
    {
     "data": {
      "text/plain": [
       "DFL-CLU-ZZZZ00    11\n",
       "DFL-CLU-ZZZZ01    11\n",
       "referee            3\n",
       "BALL               1\n",
       "Name: TeamId, dtype: int64"
      ]
     },
     "execution_count": 33,
     "metadata": {},
     "output_type": "execute_result"
    }
   ],
   "source": [
    "scene.TeamId.value_counts()"
   ]
  },
  {
   "cell_type": "code",
   "execution_count": 34,
   "id": "518c00a0-03fd-48f5-85d7-ba7feb90f83d",
   "metadata": {},
   "outputs": [
    {
     "data": {
      "text/plain": [
       "(11, 17)"
      ]
     },
     "execution_count": 34,
     "metadata": {},
     "output_type": "execute_result"
    }
   ],
   "source": [
    "scene[(scene.TeamId == 'DFL-CLU-ZZZZ01')].shape"
   ]
  },
  {
   "cell_type": "code",
   "execution_count": 35,
   "id": "2c03f05e-8c39-4cc6-8d7e-9eefb4a1ac2b",
   "metadata": {},
   "outputs": [
    {
     "data": {
      "text/plain": [
       "(11, 17)"
      ]
     },
     "execution_count": 35,
     "metadata": {},
     "output_type": "execute_result"
    }
   ],
   "source": [
    "scene[(scene.TeamId == 'DFL-CLU-ZZZZ00')].shape"
   ]
  },
  {
   "cell_type": "code",
   "execution_count": null,
   "id": "2bddf1da-1b4c-4994-a185-ca2d92b320d5",
   "metadata": {},
   "outputs": [],
   "source": []
  },
  {
   "cell_type": "code",
   "execution_count": 37,
   "id": "a0a3ea77-2564-441e-9f51-7d8e598b8575",
   "metadata": {},
   "outputs": [],
   "source": [
    "scene = position_df[position_df.N == 34855]"
   ]
  },
  {
   "cell_type": "code",
   "execution_count": 38,
   "id": "e07a2bff-0d42-4b02-a2af-01420bd101b6",
   "metadata": {},
   "outputs": [
    {
     "data": {
      "text/html": [
       "<div>\n",
       "<style scoped>\n",
       "    .dataframe tbody tr th:only-of-type {\n",
       "        vertical-align: middle;\n",
       "    }\n",
       "\n",
       "    .dataframe tbody tr th {\n",
       "        vertical-align: top;\n",
       "    }\n",
       "\n",
       "    .dataframe thead th {\n",
       "        text-align: right;\n",
       "    }\n",
       "</style>\n",
       "<table border=\"1\" class=\"dataframe\">\n",
       "  <thead>\n",
       "    <tr style=\"text-align: right;\">\n",
       "      <th></th>\n",
       "      <th>N</th>\n",
       "      <th>T</th>\n",
       "      <th>X</th>\n",
       "      <th>Y</th>\n",
       "      <th>Z</th>\n",
       "      <th>D</th>\n",
       "      <th>A</th>\n",
       "      <th>S</th>\n",
       "      <th>M</th>\n",
       "      <th>GameSection</th>\n",
       "      <th>TeamId</th>\n",
       "      <th>PersonId</th>\n",
       "      <th>BallPossession</th>\n",
       "      <th>BallStatus</th>\n",
       "      <th>IS_LTR</th>\n",
       "      <th>X_LTR</th>\n",
       "      <th>Y_LTR</th>\n",
       "    </tr>\n",
       "  </thead>\n",
       "  <tbody>\n",
       "    <tr>\n",
       "      <th>0</th>\n",
       "      <td>34855</td>\n",
       "      <td>2014-01-15 10:07:40+01:00</td>\n",
       "      <td>5.49</td>\n",
       "      <td>-5.57</td>\n",
       "      <td>0.0</td>\n",
       "      <td>12.86</td>\n",
       "      <td>-1.90</td>\n",
       "      <td>12.02</td>\n",
       "      <td>17</td>\n",
       "      <td>_Half</td>\n",
       "      <td>DFL-CLU-ZZZZ01</td>\n",
       "      <td>DFL-OBJ-ZZZZ06</td>\n",
       "      <td>2</td>\n",
       "      <td>1</td>\n",
       "      <td>True</td>\n",
       "      <td>5.49</td>\n",
       "      <td>-5.57</td>\n",
       "    </tr>\n",
       "    <tr>\n",
       "      <th>25</th>\n",
       "      <td>34855</td>\n",
       "      <td>2014-01-15 10:07:40+01:00</td>\n",
       "      <td>23.29</td>\n",
       "      <td>-8.33</td>\n",
       "      <td>0.0</td>\n",
       "      <td>8.90</td>\n",
       "      <td>0.23</td>\n",
       "      <td>7.98</td>\n",
       "      <td>17</td>\n",
       "      <td>_Half</td>\n",
       "      <td>DFL-CLU-ZZZZ00</td>\n",
       "      <td>DFL-OBJ-ZZZZ25</td>\n",
       "      <td>2</td>\n",
       "      <td>1</td>\n",
       "      <td>False</td>\n",
       "      <td>-23.29</td>\n",
       "      <td>8.33</td>\n",
       "    </tr>\n",
       "    <tr>\n",
       "      <th>24</th>\n",
       "      <td>34855</td>\n",
       "      <td>2014-01-15 10:07:40+01:00</td>\n",
       "      <td>15.24</td>\n",
       "      <td>-18.53</td>\n",
       "      <td>0.0</td>\n",
       "      <td>6.46</td>\n",
       "      <td>0.26</td>\n",
       "      <td>6.10</td>\n",
       "      <td>17</td>\n",
       "      <td>_Half</td>\n",
       "      <td>DFL-CLU-ZZZZ01</td>\n",
       "      <td>DFL-OBJ-ZZZZ14</td>\n",
       "      <td>2</td>\n",
       "      <td>1</td>\n",
       "      <td>True</td>\n",
       "      <td>15.24</td>\n",
       "      <td>-18.53</td>\n",
       "    </tr>\n",
       "    <tr>\n",
       "      <th>23</th>\n",
       "      <td>34855</td>\n",
       "      <td>2014-01-15 10:07:40+01:00</td>\n",
       "      <td>1.18</td>\n",
       "      <td>-10.57</td>\n",
       "      <td>0.0</td>\n",
       "      <td>10.56</td>\n",
       "      <td>0.01</td>\n",
       "      <td>9.93</td>\n",
       "      <td>17</td>\n",
       "      <td>_Half</td>\n",
       "      <td>referee</td>\n",
       "      <td>DFL-OBJ-ZZZZ24</td>\n",
       "      <td>2</td>\n",
       "      <td>1</td>\n",
       "      <td>False</td>\n",
       "      <td>-1.18</td>\n",
       "      <td>10.57</td>\n",
       "    </tr>\n",
       "    <tr>\n",
       "      <th>22</th>\n",
       "      <td>34855</td>\n",
       "      <td>2014-01-15 10:07:40+01:00</td>\n",
       "      <td>4.14</td>\n",
       "      <td>-11.66</td>\n",
       "      <td>0.0</td>\n",
       "      <td>16.00</td>\n",
       "      <td>-2.40</td>\n",
       "      <td>13.58</td>\n",
       "      <td>17</td>\n",
       "      <td>_Half</td>\n",
       "      <td>DFL-CLU-ZZZZ01</td>\n",
       "      <td>DFL-OBJ-ZZZZ23</td>\n",
       "      <td>2</td>\n",
       "      <td>1</td>\n",
       "      <td>True</td>\n",
       "      <td>4.14</td>\n",
       "      <td>-11.66</td>\n",
       "    </tr>\n",
       "  </tbody>\n",
       "</table>\n",
       "</div>"
      ],
      "text/plain": [
       "        N                         T      X      Y    Z      D     A      S  \\\n",
       "0   34855 2014-01-15 10:07:40+01:00   5.49  -5.57  0.0  12.86 -1.90  12.02   \n",
       "25  34855 2014-01-15 10:07:40+01:00  23.29  -8.33  0.0   8.90  0.23   7.98   \n",
       "24  34855 2014-01-15 10:07:40+01:00  15.24 -18.53  0.0   6.46  0.26   6.10   \n",
       "23  34855 2014-01-15 10:07:40+01:00   1.18 -10.57  0.0  10.56  0.01   9.93   \n",
       "22  34855 2014-01-15 10:07:40+01:00   4.14 -11.66  0.0  16.00 -2.40  13.58   \n",
       "\n",
       "     M GameSection          TeamId        PersonId  BallPossession  \\\n",
       "0   17       _Half  DFL-CLU-ZZZZ01  DFL-OBJ-ZZZZ06               2   \n",
       "25  17       _Half  DFL-CLU-ZZZZ00  DFL-OBJ-ZZZZ25               2   \n",
       "24  17       _Half  DFL-CLU-ZZZZ01  DFL-OBJ-ZZZZ14               2   \n",
       "23  17       _Half         referee  DFL-OBJ-ZZZZ24               2   \n",
       "22  17       _Half  DFL-CLU-ZZZZ01  DFL-OBJ-ZZZZ23               2   \n",
       "\n",
       "    BallStatus  IS_LTR  X_LTR  Y_LTR  \n",
       "0            1    True   5.49  -5.57  \n",
       "25           1   False -23.29   8.33  \n",
       "24           1    True  15.24 -18.53  \n",
       "23           1   False  -1.18  10.57  \n",
       "22           1    True   4.14 -11.66  "
      ]
     },
     "execution_count": 38,
     "metadata": {},
     "output_type": "execute_result"
    }
   ],
   "source": [
    "scene.head()"
   ]
  },
  {
   "cell_type": "code",
   "execution_count": null,
   "id": "c79a1b79-0f4d-4cef-8f5f-e4412fd57a8e",
   "metadata": {},
   "outputs": [],
   "source": []
  },
  {
   "cell_type": "code",
   "execution_count": 113,
   "id": "2e01975c-ed82-487c-8644-d16d34bbf571",
   "metadata": {},
   "outputs": [],
   "source": []
  },
  {
   "cell_type": "code",
   "execution_count": null,
   "id": "19714945-6c71-4bff-abb1-566fc790b541",
   "metadata": {},
   "outputs": [],
   "source": []
  },
  {
   "cell_type": "code",
   "execution_count": null,
   "id": "13e7cfde-c08a-42d5-b21c-443a1653af2f",
   "metadata": {},
   "outputs": [],
   "source": []
  },
  {
   "cell_type": "code",
   "execution_count": 254,
   "id": "9d7c7aee-b4d8-496c-adfa-fb069c610358",
   "metadata": {},
   "outputs": [
    {
     "ename": "NameError",
     "evalue": "name 'i' is not defined",
     "output_type": "error",
     "traceback": [
      "\u001b[0;31m---------------------------------------------------------------------------\u001b[0m",
      "\u001b[0;31mNameError\u001b[0m                                 Traceback (most recent call last)",
      "Cell \u001b[0;32mIn [254], line 12\u001b[0m\n\u001b[1;32m      9\u001b[0m pitch\u001b[38;5;241m.\u001b[39mscatter(scene[(scene\u001b[38;5;241m.\u001b[39mTeamId \u001b[38;5;241m==\u001b[39m \u001b[38;5;124m'\u001b[39m\u001b[38;5;124mDFL-CLU-ZZZZ00\u001b[39m\u001b[38;5;124m'\u001b[39m)]\u001b[38;5;241m.\u001b[39mX\u001b[38;5;241m+\u001b[39mpitch_x_offset, scene[(scene\u001b[38;5;241m.\u001b[39mTeamId \u001b[38;5;241m==\u001b[39m \u001b[38;5;124m'\u001b[39m\u001b[38;5;124mDFL-CLU-ZZZZ00\u001b[39m\u001b[38;5;124m'\u001b[39m)]\u001b[38;5;241m.\u001b[39mY\u001b[38;5;241m+\u001b[39mpitch_y_offset, c\u001b[38;5;241m=\u001b[39m\u001b[38;5;124m'\u001b[39m\u001b[38;5;124mdodgerblue\u001b[39m\u001b[38;5;124m'\u001b[39m, s\u001b[38;5;241m=\u001b[39m\u001b[38;5;241m80\u001b[39m, ec\u001b[38;5;241m=\u001b[39m\u001b[38;5;124m'\u001b[39m\u001b[38;5;124mk\u001b[39m\u001b[38;5;124m'\u001b[39m, ax\u001b[38;5;241m=\u001b[39max)\n\u001b[1;32m     10\u001b[0m pitch\u001b[38;5;241m.\u001b[39mscatter(scene[(scene\u001b[38;5;241m.\u001b[39mTeamId \u001b[38;5;241m==\u001b[39m \u001b[38;5;124m'\u001b[39m\u001b[38;5;124mBALL\u001b[39m\u001b[38;5;124m'\u001b[39m)]\u001b[38;5;241m.\u001b[39mX\u001b[38;5;241m+\u001b[39mpitch_x_offset, scene[(scene\u001b[38;5;241m.\u001b[39mTeamId \u001b[38;5;241m==\u001b[39m \u001b[38;5;124m'\u001b[39m\u001b[38;5;124mBALL\u001b[39m\u001b[38;5;124m'\u001b[39m)]\u001b[38;5;241m.\u001b[39mY\u001b[38;5;241m+\u001b[39mpitch_y_offset, c\u001b[38;5;241m=\u001b[39m\u001b[38;5;124m'\u001b[39m\u001b[38;5;124mred\u001b[39m\u001b[38;5;124m'\u001b[39m, s\u001b[38;5;241m=\u001b[39m\u001b[38;5;241m40\u001b[39m, ec\u001b[38;5;241m=\u001b[39m\u001b[38;5;124m'\u001b[39m\u001b[38;5;124mk\u001b[39m\u001b[38;5;124m'\u001b[39m, ax\u001b[38;5;241m=\u001b[39max)\n\u001b[0;32m---> 12\u001b[0m filename \u001b[38;5;241m=\u001b[39m \u001b[38;5;124mf\u001b[39m\u001b[38;5;124m'\u001b[39m\u001b[38;5;132;01m{\u001b[39;00mi\u001b[38;5;132;01m}\u001b[39;00m\u001b[38;5;124m.png\u001b[39m\u001b[38;5;124m'\u001b[39m\n\u001b[1;32m     13\u001b[0m filenames\u001b[38;5;241m.\u001b[39mappend(filename)\n\u001b[1;32m     15\u001b[0m \u001b[38;5;66;03m# save frame\u001b[39;00m\n",
      "\u001b[0;31mNameError\u001b[0m: name 'i' is not defined"
     ]
    },
    {
     "data": {
      "image/png": "[encoded data removed]",
      "text/plain": [
       "<Figure size 1000x500 with 1 Axes>"
      ]
     },
     "metadata": {},
     "output_type": "display_data"
    }
   ],
   "source": [
    "pitch = Pitch(axis=True, label=True, tick=True, positional=True)\n",
    "# specifying figure size (width, height)\n",
    "\n",
    "pitch_x_offset = 52.5\n",
    "pitch_y_offset = 34\n",
    "fig, ax = pitch.draw(figsize=(10, 5))\n",
    "\n",
    "pitch.scatter(scene[(scene.TeamId == 'DFL-CLU-ZZZZ01')].X+pitch_x_offset, scene[(scene.TeamId == 'DFL-CLU-ZZZZ01')].Y+pitch_y_offset, c='orange', s=80, ec='k', ax=ax)\n",
    "pitch.scatter(scene[(scene.TeamId == 'DFL-CLU-ZZZZ00')].X+pitch_x_offset, scene[(scene.TeamId == 'DFL-CLU-ZZZZ00')].Y+pitch_y_offset, c='dodgerblue', s=80, ec='k', ax=ax)\n",
    "pitch.scatter(scene[(scene.TeamId == 'BALL')].X+pitch_x_offset, scene[(scene.TeamId == 'BALL')].Y+pitch_y_offset, c='red', s=40, ec='k', ax=ax)\n",
    "\n",
    "filename = f'{i}.png'\n",
    "filenames.append(filename)\n",
    "\n",
    "# save frame\n",
    "plt.savefig(filename)\n",
    "plt.close()\n",
    "\n",
    "\n"
   ]
  },
  {
   "cell_type": "code",
   "execution_count": 241,
   "id": "7a631386-de07-4882-b55b-921f4b445db9",
   "metadata": {},
   "outputs": [],
   "source": []
  },
  {
   "cell_type": "code",
   "execution_count": null,
   "id": "e2b7d222-26c0-4663-8fb7-c9210db51fc4",
   "metadata": {},
   "outputs": [],
   "source": []
  },
  {
   "cell_type": "code",
   "execution_count": 252,
   "id": "f71537ae-7be5-4289-b034-abaa55672e50",
   "metadata": {},
   "outputs": [
    {
     "data": {
      "image/png": "[encoded data removed]",
      "text/plain": [
       "<Figure size 412.5x600 with 1 Axes>"
      ]
     },
     "metadata": {},
     "output_type": "display_data"
    }
   ],
   "source": []
  },
  {
   "cell_type": "code",
   "execution_count": null,
   "id": "5c6a926b-0a71-4eb6-a0cb-af935c931e6b",
   "metadata": {},
   "outputs": [],
   "source": []
  },
  {
   "cell_type": "code",
   "execution_count": null,
   "id": "735ab08d-2127-4d3c-a573-50b600112643",
   "metadata": {},
   "outputs": [],
   "source": []
  },
  {
   "cell_type": "code",
   "execution_count": null,
   "id": "bb72f230-429c-4f6c-b7f6-a6d967fc9f0e",
   "metadata": {},
   "outputs": [],
   "source": []
  },
  {
   "cell_type": "code",
   "execution_count": null,
   "id": "ef778bee-0cce-4c3e-95f5-6043b2a01b77",
   "metadata": {},
   "outputs": [],
   "source": []
  }
 ],
 "metadata": {
  "kernelspec": {
   "display_name": "Python 3 (ipykernel)",
   "language": "python",
   "name": "python3"
  },
  "language_info": {
   "codemirror_mode": {
    "name": "ipython",
    "version": 3
   },
   "file_extension": ".py",
   "mimetype": "text/x-python",
   "name": "python",
   "nbconvert_exporter": "python",
   "pygments_lexer": "ipython3",
   "version": "3.9.18"
  }
 },
 "nbformat": 4,
 "nbformat_minor": 5
}
